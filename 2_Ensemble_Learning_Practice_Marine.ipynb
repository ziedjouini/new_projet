{
  "nbformat": 4,
  "nbformat_minor": 0,
  "metadata": {
    "colab": {
      "provenance": [],
      "include_colab_link": true
    },
    "kernelspec": {
      "name": "python3",
      "display_name": "Python 3"
    },
    "language_info": {
      "name": "python"
    }
  },
  "cells": [
    {
      "cell_type": "markdown",
      "metadata": {
        "id": "view-in-github",
        "colab_type": "text"
      },
      "source": [
        "<a href=\"https://colab.research.google.com/github/ziedjouini/new_projet/blob/main/2_Ensemble_Learning_Practice_Marine.ipynb\" target=\"_parent\"><img src=\"https://colab.research.google.com/assets/colab-badge.svg\" alt=\"Open In Colab\"/></a>"
      ]
    },
    {
      "cell_type": "markdown",
      "source": [
        "# **Practicing ensemble learning**\n",
        "Download the following [Spotify dataset](https://raw.githubusercontent.com/murpi/wilddata/master/quests/spotify.zip).\n",
        "\n",
        "Execute the following tasks:\n",
        "* Build a classification or regression model with this dataset\n",
        "* Evaluate the performance of your  model using accuracy score, RMSE or R_squared\n",
        "* Apply 3 ensemble techniques of your choice on the dataset\n",
        "* Compare the obtained results with your individual model\n"
      ],
      "metadata": {
        "id": "K2OF_nrU0FEs"
      }
    },
    {
      "cell_type": "markdown",
      "source": [
        "## Import and data preprocessing"
      ],
      "metadata": {
        "id": "6W_xtcEMCDhO"
      }
    },
    {
      "cell_type": "code",
      "source": [
        "# !pip install mlxtend --upgrade"
      ],
      "metadata": {
        "id": "pIv63uov6CP0"
      },
      "execution_count": null,
      "outputs": []
    },
    {
      "cell_type": "code",
      "source": [
        "import pandas as pd\n",
        "import numpy as np\n",
        "from sklearn import datasets\n",
        "\n",
        "from sklearn.datasets import make_classification, make_regression\n",
        "from sklearn.model_selection import train_test_split\n",
        "from sklearn.preprocessing import StandardScaler, MinMaxScaler, OneHotEncoder, LabelEncoder, Normalizer\n",
        "from sklearn.neighbors import KNeighborsClassifier\n",
        "from sklearn.naive_bayes import GaussianNB\n",
        "from sklearn.tree import DecisionTreeClassifier\n",
        "from sklearn.linear_model import LogisticRegression\n",
        "from sklearn.ensemble import VotingClassifier\n",
        "from sklearn.model_selection import train_test_split\n",
        "from sklearn.metrics import accuracy_score, f1_score, r2_score\n",
        "\n",
        "from sklearn.tree import DecisionTreeRegressor\n",
        "from sklearn.linear_model import LinearRegression\n",
        "from sklearn.ensemble import RandomForestRegressor\n",
        "from sklearn.ensemble import VotingRegressor\n",
        "from sklearn.metrics import mean_absolute_error, mean_squared_error\n",
        "\n",
        "from mlxtend.classifier import StackingClassifier\n",
        "from mlxtend.regressor import StackingCVRegressor\n",
        "from sklearn.svm import SVR\n",
        "from sklearn.ensemble import BaggingClassifier\n",
        "from sklearn.ensemble import AdaBoostRegressor"
      ],
      "metadata": {
        "id": "bUYXBdA95Oy3"
      },
      "execution_count": null,
      "outputs": []
    },
    {
      "cell_type": "code",
      "execution_count": null,
      "metadata": {
        "id": "1fOplLPH0BWN",
        "colab": {
          "base_uri": "https://localhost:8080/",
          "height": 589
        },
        "outputId": "6f06ae80-73a3-4ed5-ba13-cca3608d5028"
      },
      "outputs": [
        {
          "output_type": "execute_result",
          "data": {
            "text/plain": [
              "        genre               artist_name                        track_name  \\\n",
              "0       Movie            Henri Salvador       C'est beau de faire un Show   \n",
              "1       Movie         Martin & les fées  Perdu d'avance (par Gad Elmaleh)   \n",
              "2       Movie           Joseph Williams    Don't Let Me Be Lonely Tonight   \n",
              "3       Movie            Henri Salvador    Dis-moi Monsieur Gordon Cooper   \n",
              "4       Movie              Fabien Nataf                         Ouverture   \n",
              "...       ...                       ...                               ...   \n",
              "232720   Soul                     Slave                      Son Of Slide   \n",
              "232721   Soul  Jr Thomas & The Volcanos                      Burning Fire   \n",
              "232722   Soul              Muddy Waters    (I'm Your) Hoochie Coochie Man   \n",
              "232723   Soul                   R.LUM.R                     With My Words   \n",
              "232724   Soul            Mint Condition    You Don't Have To Hurt No More   \n",
              "\n",
              "                      track_id  popularity  acousticness  danceability  \\\n",
              "0       0BRjO6ga9RKCKjfDqeFgWV           0       0.61100         0.389   \n",
              "1       0BjC1NfoEOOusryehmNudP           1       0.24600         0.590   \n",
              "2       0CoSDzoNIKCRs124s9uTVy           3       0.95200         0.663   \n",
              "3       0Gc6TVm52BwZD07Ki6tIvf           0       0.70300         0.240   \n",
              "4       0IuslXpMROHdEPvSl1fTQK           4       0.95000         0.331   \n",
              "...                        ...         ...           ...           ...   \n",
              "232720  2XGLdVl7lGeq8ksM6Al7jT          39       0.00384         0.687   \n",
              "232721  1qWZdkBl4UVPj9lK6HuuFM          38       0.03290         0.785   \n",
              "232722  2ziWXUmQLrXTiYjCg2fZ2t          47       0.90100         0.517   \n",
              "232723  6EFsue2YbIG4Qkq8Zr9Rir          44       0.26200         0.745   \n",
              "232724  34XO9RwPMKjbvRry54QzWn          35       0.09730         0.758   \n",
              "\n",
              "        duration_ms  energy  instrumentalness key  liveness  loudness   mode  \\\n",
              "0             99373   0.910          0.000000  C#    0.3460    -1.828  Major   \n",
              "1            137373   0.737          0.000000  F#    0.1510    -5.559  Minor   \n",
              "2            170267   0.131          0.000000   C    0.1030   -13.879  Minor   \n",
              "3            152427   0.326          0.000000  C#    0.0985   -12.178  Major   \n",
              "4             82625   0.225          0.123000   F    0.2020   -21.150  Major   \n",
              "...             ...     ...               ...  ..       ...       ...    ...   \n",
              "232720       326240   0.714          0.544000   D    0.0845   -10.626  Major   \n",
              "232721       282447   0.683          0.000880   E    0.2370    -6.944  Minor   \n",
              "232722       166960   0.419          0.000000   D    0.0945    -8.282  Major   \n",
              "232723       222442   0.704          0.000000   A    0.3330    -7.137  Major   \n",
              "232724       323027   0.470          0.000049  G#    0.0836    -6.708  Minor   \n",
              "\n",
              "        speechiness    tempo time_signature  valence  \n",
              "0            0.0525  166.969            4/4    0.814  \n",
              "1            0.0868  174.003            4/4    0.816  \n",
              "2            0.0362   99.488            5/4    0.368  \n",
              "3            0.0395  171.758            4/4    0.227  \n",
              "4            0.0456  140.576            4/4    0.390  \n",
              "...             ...      ...            ...      ...  \n",
              "232720       0.0316  115.542            4/4    0.962  \n",
              "232721       0.0337  113.830            4/4    0.969  \n",
              "232722       0.1480   84.135            4/4    0.813  \n",
              "232723       0.1460  100.031            4/4    0.489  \n",
              "232724       0.0287  113.897            4/4    0.479  \n",
              "\n",
              "[232725 rows x 18 columns]"
            ],
            "text/html": [
              "\n",
              "  <div id=\"df-d6541d39-ffbb-4386-a8a0-c2377627df6f\">\n",
              "    <div class=\"colab-df-container\">\n",
              "      <div>\n",
              "<style scoped>\n",
              "    .dataframe tbody tr th:only-of-type {\n",
              "        vertical-align: middle;\n",
              "    }\n",
              "\n",
              "    .dataframe tbody tr th {\n",
              "        vertical-align: top;\n",
              "    }\n",
              "\n",
              "    .dataframe thead th {\n",
              "        text-align: right;\n",
              "    }\n",
              "</style>\n",
              "<table border=\"1\" class=\"dataframe\">\n",
              "  <thead>\n",
              "    <tr style=\"text-align: right;\">\n",
              "      <th></th>\n",
              "      <th>genre</th>\n",
              "      <th>artist_name</th>\n",
              "      <th>track_name</th>\n",
              "      <th>track_id</th>\n",
              "      <th>popularity</th>\n",
              "      <th>acousticness</th>\n",
              "      <th>danceability</th>\n",
              "      <th>duration_ms</th>\n",
              "      <th>energy</th>\n",
              "      <th>instrumentalness</th>\n",
              "      <th>key</th>\n",
              "      <th>liveness</th>\n",
              "      <th>loudness</th>\n",
              "      <th>mode</th>\n",
              "      <th>speechiness</th>\n",
              "      <th>tempo</th>\n",
              "      <th>time_signature</th>\n",
              "      <th>valence</th>\n",
              "    </tr>\n",
              "  </thead>\n",
              "  <tbody>\n",
              "    <tr>\n",
              "      <th>0</th>\n",
              "      <td>Movie</td>\n",
              "      <td>Henri Salvador</td>\n",
              "      <td>C'est beau de faire un Show</td>\n",
              "      <td>0BRjO6ga9RKCKjfDqeFgWV</td>\n",
              "      <td>0</td>\n",
              "      <td>0.61100</td>\n",
              "      <td>0.389</td>\n",
              "      <td>99373</td>\n",
              "      <td>0.910</td>\n",
              "      <td>0.000000</td>\n",
              "      <td>C#</td>\n",
              "      <td>0.3460</td>\n",
              "      <td>-1.828</td>\n",
              "      <td>Major</td>\n",
              "      <td>0.0525</td>\n",
              "      <td>166.969</td>\n",
              "      <td>4/4</td>\n",
              "      <td>0.814</td>\n",
              "    </tr>\n",
              "    <tr>\n",
              "      <th>1</th>\n",
              "      <td>Movie</td>\n",
              "      <td>Martin &amp; les fées</td>\n",
              "      <td>Perdu d'avance (par Gad Elmaleh)</td>\n",
              "      <td>0BjC1NfoEOOusryehmNudP</td>\n",
              "      <td>1</td>\n",
              "      <td>0.24600</td>\n",
              "      <td>0.590</td>\n",
              "      <td>137373</td>\n",
              "      <td>0.737</td>\n",
              "      <td>0.000000</td>\n",
              "      <td>F#</td>\n",
              "      <td>0.1510</td>\n",
              "      <td>-5.559</td>\n",
              "      <td>Minor</td>\n",
              "      <td>0.0868</td>\n",
              "      <td>174.003</td>\n",
              "      <td>4/4</td>\n",
              "      <td>0.816</td>\n",
              "    </tr>\n",
              "    <tr>\n",
              "      <th>2</th>\n",
              "      <td>Movie</td>\n",
              "      <td>Joseph Williams</td>\n",
              "      <td>Don't Let Me Be Lonely Tonight</td>\n",
              "      <td>0CoSDzoNIKCRs124s9uTVy</td>\n",
              "      <td>3</td>\n",
              "      <td>0.95200</td>\n",
              "      <td>0.663</td>\n",
              "      <td>170267</td>\n",
              "      <td>0.131</td>\n",
              "      <td>0.000000</td>\n",
              "      <td>C</td>\n",
              "      <td>0.1030</td>\n",
              "      <td>-13.879</td>\n",
              "      <td>Minor</td>\n",
              "      <td>0.0362</td>\n",
              "      <td>99.488</td>\n",
              "      <td>5/4</td>\n",
              "      <td>0.368</td>\n",
              "    </tr>\n",
              "    <tr>\n",
              "      <th>3</th>\n",
              "      <td>Movie</td>\n",
              "      <td>Henri Salvador</td>\n",
              "      <td>Dis-moi Monsieur Gordon Cooper</td>\n",
              "      <td>0Gc6TVm52BwZD07Ki6tIvf</td>\n",
              "      <td>0</td>\n",
              "      <td>0.70300</td>\n",
              "      <td>0.240</td>\n",
              "      <td>152427</td>\n",
              "      <td>0.326</td>\n",
              "      <td>0.000000</td>\n",
              "      <td>C#</td>\n",
              "      <td>0.0985</td>\n",
              "      <td>-12.178</td>\n",
              "      <td>Major</td>\n",
              "      <td>0.0395</td>\n",
              "      <td>171.758</td>\n",
              "      <td>4/4</td>\n",
              "      <td>0.227</td>\n",
              "    </tr>\n",
              "    <tr>\n",
              "      <th>4</th>\n",
              "      <td>Movie</td>\n",
              "      <td>Fabien Nataf</td>\n",
              "      <td>Ouverture</td>\n",
              "      <td>0IuslXpMROHdEPvSl1fTQK</td>\n",
              "      <td>4</td>\n",
              "      <td>0.95000</td>\n",
              "      <td>0.331</td>\n",
              "      <td>82625</td>\n",
              "      <td>0.225</td>\n",
              "      <td>0.123000</td>\n",
              "      <td>F</td>\n",
              "      <td>0.2020</td>\n",
              "      <td>-21.150</td>\n",
              "      <td>Major</td>\n",
              "      <td>0.0456</td>\n",
              "      <td>140.576</td>\n",
              "      <td>4/4</td>\n",
              "      <td>0.390</td>\n",
              "    </tr>\n",
              "    <tr>\n",
              "      <th>...</th>\n",
              "      <td>...</td>\n",
              "      <td>...</td>\n",
              "      <td>...</td>\n",
              "      <td>...</td>\n",
              "      <td>...</td>\n",
              "      <td>...</td>\n",
              "      <td>...</td>\n",
              "      <td>...</td>\n",
              "      <td>...</td>\n",
              "      <td>...</td>\n",
              "      <td>...</td>\n",
              "      <td>...</td>\n",
              "      <td>...</td>\n",
              "      <td>...</td>\n",
              "      <td>...</td>\n",
              "      <td>...</td>\n",
              "      <td>...</td>\n",
              "      <td>...</td>\n",
              "    </tr>\n",
              "    <tr>\n",
              "      <th>232720</th>\n",
              "      <td>Soul</td>\n",
              "      <td>Slave</td>\n",
              "      <td>Son Of Slide</td>\n",
              "      <td>2XGLdVl7lGeq8ksM6Al7jT</td>\n",
              "      <td>39</td>\n",
              "      <td>0.00384</td>\n",
              "      <td>0.687</td>\n",
              "      <td>326240</td>\n",
              "      <td>0.714</td>\n",
              "      <td>0.544000</td>\n",
              "      <td>D</td>\n",
              "      <td>0.0845</td>\n",
              "      <td>-10.626</td>\n",
              "      <td>Major</td>\n",
              "      <td>0.0316</td>\n",
              "      <td>115.542</td>\n",
              "      <td>4/4</td>\n",
              "      <td>0.962</td>\n",
              "    </tr>\n",
              "    <tr>\n",
              "      <th>232721</th>\n",
              "      <td>Soul</td>\n",
              "      <td>Jr Thomas &amp; The Volcanos</td>\n",
              "      <td>Burning Fire</td>\n",
              "      <td>1qWZdkBl4UVPj9lK6HuuFM</td>\n",
              "      <td>38</td>\n",
              "      <td>0.03290</td>\n",
              "      <td>0.785</td>\n",
              "      <td>282447</td>\n",
              "      <td>0.683</td>\n",
              "      <td>0.000880</td>\n",
              "      <td>E</td>\n",
              "      <td>0.2370</td>\n",
              "      <td>-6.944</td>\n",
              "      <td>Minor</td>\n",
              "      <td>0.0337</td>\n",
              "      <td>113.830</td>\n",
              "      <td>4/4</td>\n",
              "      <td>0.969</td>\n",
              "    </tr>\n",
              "    <tr>\n",
              "      <th>232722</th>\n",
              "      <td>Soul</td>\n",
              "      <td>Muddy Waters</td>\n",
              "      <td>(I'm Your) Hoochie Coochie Man</td>\n",
              "      <td>2ziWXUmQLrXTiYjCg2fZ2t</td>\n",
              "      <td>47</td>\n",
              "      <td>0.90100</td>\n",
              "      <td>0.517</td>\n",
              "      <td>166960</td>\n",
              "      <td>0.419</td>\n",
              "      <td>0.000000</td>\n",
              "      <td>D</td>\n",
              "      <td>0.0945</td>\n",
              "      <td>-8.282</td>\n",
              "      <td>Major</td>\n",
              "      <td>0.1480</td>\n",
              "      <td>84.135</td>\n",
              "      <td>4/4</td>\n",
              "      <td>0.813</td>\n",
              "    </tr>\n",
              "    <tr>\n",
              "      <th>232723</th>\n",
              "      <td>Soul</td>\n",
              "      <td>R.LUM.R</td>\n",
              "      <td>With My Words</td>\n",
              "      <td>6EFsue2YbIG4Qkq8Zr9Rir</td>\n",
              "      <td>44</td>\n",
              "      <td>0.26200</td>\n",
              "      <td>0.745</td>\n",
              "      <td>222442</td>\n",
              "      <td>0.704</td>\n",
              "      <td>0.000000</td>\n",
              "      <td>A</td>\n",
              "      <td>0.3330</td>\n",
              "      <td>-7.137</td>\n",
              "      <td>Major</td>\n",
              "      <td>0.1460</td>\n",
              "      <td>100.031</td>\n",
              "      <td>4/4</td>\n",
              "      <td>0.489</td>\n",
              "    </tr>\n",
              "    <tr>\n",
              "      <th>232724</th>\n",
              "      <td>Soul</td>\n",
              "      <td>Mint Condition</td>\n",
              "      <td>You Don't Have To Hurt No More</td>\n",
              "      <td>34XO9RwPMKjbvRry54QzWn</td>\n",
              "      <td>35</td>\n",
              "      <td>0.09730</td>\n",
              "      <td>0.758</td>\n",
              "      <td>323027</td>\n",
              "      <td>0.470</td>\n",
              "      <td>0.000049</td>\n",
              "      <td>G#</td>\n",
              "      <td>0.0836</td>\n",
              "      <td>-6.708</td>\n",
              "      <td>Minor</td>\n",
              "      <td>0.0287</td>\n",
              "      <td>113.897</td>\n",
              "      <td>4/4</td>\n",
              "      <td>0.479</td>\n",
              "    </tr>\n",
              "  </tbody>\n",
              "</table>\n",
              "<p>232725 rows × 18 columns</p>\n",
              "</div>\n",
              "      <button class=\"colab-df-convert\" onclick=\"convertToInteractive('df-d6541d39-ffbb-4386-a8a0-c2377627df6f')\"\n",
              "              title=\"Convert this dataframe to an interactive table.\"\n",
              "              style=\"display:none;\">\n",
              "        \n",
              "  <svg xmlns=\"http://www.w3.org/2000/svg\" height=\"24px\"viewBox=\"0 0 24 24\"\n",
              "       width=\"24px\">\n",
              "    <path d=\"M0 0h24v24H0V0z\" fill=\"none\"/>\n",
              "    <path d=\"M18.56 5.44l.94 2.06.94-2.06 2.06-.94-2.06-.94-.94-2.06-.94 2.06-2.06.94zm-11 1L8.5 8.5l.94-2.06 2.06-.94-2.06-.94L8.5 2.5l-.94 2.06-2.06.94zm10 10l.94 2.06.94-2.06 2.06-.94-2.06-.94-.94-2.06-.94 2.06-2.06.94z\"/><path d=\"M17.41 7.96l-1.37-1.37c-.4-.4-.92-.59-1.43-.59-.52 0-1.04.2-1.43.59L10.3 9.45l-7.72 7.72c-.78.78-.78 2.05 0 2.83L4 21.41c.39.39.9.59 1.41.59.51 0 1.02-.2 1.41-.59l7.78-7.78 2.81-2.81c.8-.78.8-2.07 0-2.86zM5.41 20L4 18.59l7.72-7.72 1.47 1.35L5.41 20z\"/>\n",
              "  </svg>\n",
              "      </button>\n",
              "      \n",
              "  <style>\n",
              "    .colab-df-container {\n",
              "      display:flex;\n",
              "      flex-wrap:wrap;\n",
              "      gap: 12px;\n",
              "    }\n",
              "\n",
              "    .colab-df-convert {\n",
              "      background-color: #E8F0FE;\n",
              "      border: none;\n",
              "      border-radius: 50%;\n",
              "      cursor: pointer;\n",
              "      display: none;\n",
              "      fill: #1967D2;\n",
              "      height: 32px;\n",
              "      padding: 0 0 0 0;\n",
              "      width: 32px;\n",
              "    }\n",
              "\n",
              "    .colab-df-convert:hover {\n",
              "      background-color: #E2EBFA;\n",
              "      box-shadow: 0px 1px 2px rgba(60, 64, 67, 0.3), 0px 1px 3px 1px rgba(60, 64, 67, 0.15);\n",
              "      fill: #174EA6;\n",
              "    }\n",
              "\n",
              "    [theme=dark] .colab-df-convert {\n",
              "      background-color: #3B4455;\n",
              "      fill: #D2E3FC;\n",
              "    }\n",
              "\n",
              "    [theme=dark] .colab-df-convert:hover {\n",
              "      background-color: #434B5C;\n",
              "      box-shadow: 0px 1px 3px 1px rgba(0, 0, 0, 0.15);\n",
              "      filter: drop-shadow(0px 1px 2px rgba(0, 0, 0, 0.3));\n",
              "      fill: #FFFFFF;\n",
              "    }\n",
              "  </style>\n",
              "\n",
              "      <script>\n",
              "        const buttonEl =\n",
              "          document.querySelector('#df-d6541d39-ffbb-4386-a8a0-c2377627df6f button.colab-df-convert');\n",
              "        buttonEl.style.display =\n",
              "          google.colab.kernel.accessAllowed ? 'block' : 'none';\n",
              "\n",
              "        async function convertToInteractive(key) {\n",
              "          const element = document.querySelector('#df-d6541d39-ffbb-4386-a8a0-c2377627df6f');\n",
              "          const dataTable =\n",
              "            await google.colab.kernel.invokeFunction('convertToInteractive',\n",
              "                                                     [key], {});\n",
              "          if (!dataTable) return;\n",
              "\n",
              "          const docLinkHtml = 'Like what you see? Visit the ' +\n",
              "            '<a target=\"_blank\" href=https://colab.research.google.com/notebooks/data_table.ipynb>data table notebook</a>'\n",
              "            + ' to learn more about interactive tables.';\n",
              "          element.innerHTML = '';\n",
              "          dataTable['output_type'] = 'display_data';\n",
              "          await google.colab.output.renderOutput(dataTable, element);\n",
              "          const docLink = document.createElement('div');\n",
              "          docLink.innerHTML = docLinkHtml;\n",
              "          element.appendChild(docLink);\n",
              "        }\n",
              "      </script>\n",
              "    </div>\n",
              "  </div>\n",
              "  "
            ]
          },
          "metadata": {},
          "execution_count": 3
        }
      ],
      "source": [
        "df = pd.read_csv(\"https://raw.githubusercontent.com/murpi/wilddata/master/quests/spotify.zip\")\n",
        "df"
      ]
    },
    {
      "cell_type": "code",
      "source": [
        "from skimpy import skim\n",
        "skim(df)"
      ],
      "metadata": {
        "colab": {
          "base_uri": "https://localhost:8080/",
          "height": 691
        },
        "id": "lJ5ogrsQ7g5d",
        "outputId": "b3b2af9a-f6cc-477d-b416-af3db3be84d0"
      },
      "execution_count": null,
      "outputs": [
        {
          "output_type": "display_data",
          "data": {
            "text/plain": [
              "╭──────────────────────────────────────────────── skimpy summary ─────────────────────────────────────────────────╮\n",
              "│ \u001b[3m         Data Summary         \u001b[0m \u001b[3m      Data Types       \u001b[0m                                                          │\n",
              "│ ┏━━━━━━━━━━━━━━━━━━━┳━━━━━━━━┓ ┏━━━━━━━━━━━━━┳━━━━━━━┓                                                          │\n",
              "│ ┃\u001b[1;36m \u001b[0m\u001b[1;36mdataframe        \u001b[0m\u001b[1;36m \u001b[0m┃\u001b[1;36m \u001b[0m\u001b[1;36mValues\u001b[0m\u001b[1;36m \u001b[0m┃ ┃\u001b[1;36m \u001b[0m\u001b[1;36mColumn Type\u001b[0m\u001b[1;36m \u001b[0m┃\u001b[1;36m \u001b[0m\u001b[1;36mCount\u001b[0m\u001b[1;36m \u001b[0m┃                                                          │\n",
              "│ ┡━━━━━━━━━━━━━━━━━━━╇━━━━━━━━┩ ┡━━━━━━━━━━━━━╇━━━━━━━┩                                                          │\n",
              "│ │ Number of rows    │ 232725 │ │ float64     │ 9     │                                                          │\n",
              "│ │ Number of columns │ 18     │ │ string      │ 7     │                                                          │\n",
              "│ └───────────────────┴────────┘ │ int64       │ 2     │                                                          │\n",
              "│                                └─────────────┴───────┘                                                          │\n",
              "│ \u001b[3m                                                    number                                                    \u001b[0m  │\n",
              "│ ┏━━━━━━━━━━━━━━━━━━━━━┳━━━━━┳━━━━━━━┳━━━━━━━━━━┳━━━━━━━━━━┳━━━━━━━━━┳━━━━━━━━━┳━━━━━━━━━┳━━━━━━━━━━━┳━━━━━━━━┓  │\n",
              "│ ┃\u001b[1m \u001b[0m\u001b[1mcolumn_name        \u001b[0m\u001b[1m \u001b[0m┃\u001b[1m \u001b[0m\u001b[1mNA \u001b[0m\u001b[1m \u001b[0m┃\u001b[1m \u001b[0m\u001b[1mNA % \u001b[0m\u001b[1m \u001b[0m┃\u001b[1m \u001b[0m\u001b[1mmean    \u001b[0m\u001b[1m \u001b[0m┃\u001b[1m \u001b[0m\u001b[1msd      \u001b[0m\u001b[1m \u001b[0m┃\u001b[1m \u001b[0m\u001b[1mp0     \u001b[0m\u001b[1m \u001b[0m┃\u001b[1m \u001b[0m\u001b[1mp25    \u001b[0m\u001b[1m \u001b[0m┃\u001b[1m \u001b[0m\u001b[1mp75    \u001b[0m\u001b[1m \u001b[0m┃\u001b[1m \u001b[0m\u001b[1mp100     \u001b[0m\u001b[1m \u001b[0m┃\u001b[1m \u001b[0m\u001b[1mhist  \u001b[0m\u001b[1m \u001b[0m┃  │\n",
              "│ ┡━━━━━━━━━━━━━━━━━━━━━╇━━━━━╇━━━━━━━╇━━━━━━━━━━╇━━━━━━━━━━╇━━━━━━━━━╇━━━━━━━━━╇━━━━━━━━━╇━━━━━━━━━━━╇━━━━━━━━┩  │\n",
              "│ │ \u001b[38;5;141mpopularity         \u001b[0m │ \u001b[36m  0\u001b[0m │ \u001b[36m    0\u001b[0m │ \u001b[36m      41\u001b[0m │ \u001b[36m      18\u001b[0m │ \u001b[36m      0\u001b[0m │ \u001b[36m     29\u001b[0m │ \u001b[36m     55\u001b[0m │ \u001b[36m      100\u001b[0m │ \u001b[32m▃▆██▂ \u001b[0m │  │\n",
              "│ │ \u001b[38;5;141macousticness       \u001b[0m │ \u001b[36m  0\u001b[0m │ \u001b[36m    0\u001b[0m │ \u001b[36m    0.37\u001b[0m │ \u001b[36m    0.35\u001b[0m │ \u001b[36m      0\u001b[0m │ \u001b[36m  0.038\u001b[0m │ \u001b[36m   0.72\u001b[0m │ \u001b[36m        1\u001b[0m │ \u001b[32m█▂▂▁▂▃\u001b[0m │  │\n",
              "│ │ \u001b[38;5;141mdanceability       \u001b[0m │ \u001b[36m  0\u001b[0m │ \u001b[36m    0\u001b[0m │ \u001b[36m    0.55\u001b[0m │ \u001b[36m    0.19\u001b[0m │ \u001b[36m  0.057\u001b[0m │ \u001b[36m   0.43\u001b[0m │ \u001b[36m   0.69\u001b[0m │ \u001b[36m     0.99\u001b[0m │ \u001b[32m▁▃▆█▆▁\u001b[0m │  │\n",
              "│ │ \u001b[38;5;141mduration_ms        \u001b[0m │ \u001b[36m  0\u001b[0m │ \u001b[36m    0\u001b[0m │ \u001b[36m  240000\u001b[0m │ \u001b[36m  120000\u001b[0m │ \u001b[36m  15000\u001b[0m │ \u001b[36m 180000\u001b[0m │ \u001b[36m 270000\u001b[0m │ \u001b[36m  5600000\u001b[0m │ \u001b[32m  █   \u001b[0m │  │\n",
              "│ │ \u001b[38;5;141menergy             \u001b[0m │ \u001b[36m  0\u001b[0m │ \u001b[36m    0\u001b[0m │ \u001b[36m    0.57\u001b[0m │ \u001b[36m    0.26\u001b[0m │ \u001b[36m  2e-05\u001b[0m │ \u001b[36m   0.39\u001b[0m │ \u001b[36m   0.79\u001b[0m │ \u001b[36m        1\u001b[0m │ \u001b[32m▄▄▆██▇\u001b[0m │  │\n",
              "│ │ \u001b[38;5;141minstrumentalness   \u001b[0m │ \u001b[36m  0\u001b[0m │ \u001b[36m    0\u001b[0m │ \u001b[36m    0.15\u001b[0m │ \u001b[36m     0.3\u001b[0m │ \u001b[36m      0\u001b[0m │ \u001b[36m      0\u001b[0m │ \u001b[36m  0.036\u001b[0m │ \u001b[36m        1\u001b[0m │ \u001b[32m█    ▁\u001b[0m │  │\n",
              "│ │ \u001b[38;5;141mliveness           \u001b[0m │ \u001b[36m  0\u001b[0m │ \u001b[36m    0\u001b[0m │ \u001b[36m    0.22\u001b[0m │ \u001b[36m     0.2\u001b[0m │ \u001b[36m 0.0097\u001b[0m │ \u001b[36m  0.097\u001b[0m │ \u001b[36m   0.26\u001b[0m │ \u001b[36m        1\u001b[0m │ \u001b[32m █▂▁  \u001b[0m │  │\n",
              "│ │ \u001b[38;5;141mloudness           \u001b[0m │ \u001b[36m  0\u001b[0m │ \u001b[36m    0\u001b[0m │ \u001b[36m    -9.6\u001b[0m │ \u001b[36m       6\u001b[0m │ \u001b[36m    -52\u001b[0m │ \u001b[36m    -12\u001b[0m │ \u001b[36m   -5.5\u001b[0m │ \u001b[36m      3.7\u001b[0m │ \u001b[32m   ▂█▄\u001b[0m │  │\n",
              "│ │ \u001b[38;5;141mspeechiness        \u001b[0m │ \u001b[36m  0\u001b[0m │ \u001b[36m    0\u001b[0m │ \u001b[36m    0.12\u001b[0m │ \u001b[36m    0.19\u001b[0m │ \u001b[36m  0.022\u001b[0m │ \u001b[36m  0.037\u001b[0m │ \u001b[36m    0.1\u001b[0m │ \u001b[36m     0.97\u001b[0m │ \u001b[32m  █▁  \u001b[0m │  │\n",
              "│ │ \u001b[38;5;141mtempo              \u001b[0m │ \u001b[36m  0\u001b[0m │ \u001b[36m    0\u001b[0m │ \u001b[36m     120\u001b[0m │ \u001b[36m      31\u001b[0m │ \u001b[36m     30\u001b[0m │ \u001b[36m     93\u001b[0m │ \u001b[36m    140\u001b[0m │ \u001b[36m      240\u001b[0m │ \u001b[32m ▇█▅▁ \u001b[0m │  │\n",
              "│ │ \u001b[38;5;141mvalence            \u001b[0m │ \u001b[36m  0\u001b[0m │ \u001b[36m    0\u001b[0m │ \u001b[36m    0.45\u001b[0m │ \u001b[36m    0.26\u001b[0m │ \u001b[36m      0\u001b[0m │ \u001b[36m   0.24\u001b[0m │ \u001b[36m   0.66\u001b[0m │ \u001b[36m        1\u001b[0m │ \u001b[32m▇██▇▆▄\u001b[0m │  │\n",
              "│ └─────────────────────┴─────┴───────┴──────────┴──────────┴─────────┴─────────┴─────────┴───────────┴────────┘  │\n",
              "│ \u001b[3m                                                    string                                                    \u001b[0m  │\n",
              "│ ┏━━━━━━━━━━━━━━━━━━━━━━━━━━━━━━━┳━━━━━━━━┳━━━━━━━━━━━━┳━━━━━━━━━━━━━━━━━━━━━━━━━━━━━┳━━━━━━━━━━━━━━━━━━━━━━━━┓  │\n",
              "│ ┃\u001b[1m \u001b[0m\u001b[1mcolumn_name                  \u001b[0m\u001b[1m \u001b[0m┃\u001b[1m \u001b[0m\u001b[1mNA    \u001b[0m\u001b[1m \u001b[0m┃\u001b[1m \u001b[0m\u001b[1mNA %      \u001b[0m\u001b[1m \u001b[0m┃\u001b[1m \u001b[0m\u001b[1mwords per row              \u001b[0m\u001b[1m \u001b[0m┃\u001b[1m \u001b[0m\u001b[1mtotal words           \u001b[0m\u001b[1m \u001b[0m┃  │\n",
              "│ ┡━━━━━━━━━━━━━━━━━━━━━━━━━━━━━━━╇━━━━━━━━╇━━━━━━━━━━━━╇━━━━━━━━━━━━━━━━━━━━━━━━━━━━━╇━━━━━━━━━━━━━━━━━━━━━━━━┩  │\n",
              "│ │ \u001b[38;5;141mgenre                        \u001b[0m │ \u001b[36m     0\u001b[0m │ \u001b[36m         0\u001b[0m │ \u001b[36m                        1.1\u001b[0m │ \u001b[36m                250000\u001b[0m │  │\n",
              "│ │ \u001b[38;5;141martist_name                  \u001b[0m │ \u001b[36m     0\u001b[0m │ \u001b[36m         0\u001b[0m │ \u001b[36m                        1.1\u001b[0m │ \u001b[36m                250000\u001b[0m │  │\n",
              "│ │ \u001b[38;5;141mtrack_name                   \u001b[0m │ \u001b[36m     0\u001b[0m │ \u001b[36m         0\u001b[0m │ \u001b[36m                        1.1\u001b[0m │ \u001b[36m                250000\u001b[0m │  │\n",
              "│ │ \u001b[38;5;141mtrack_id                     \u001b[0m │ \u001b[36m     0\u001b[0m │ \u001b[36m         0\u001b[0m │ \u001b[36m                        1.1\u001b[0m │ \u001b[36m                250000\u001b[0m │  │\n",
              "│ │ \u001b[38;5;141mkey                          \u001b[0m │ \u001b[36m     0\u001b[0m │ \u001b[36m         0\u001b[0m │ \u001b[36m                        1.1\u001b[0m │ \u001b[36m                250000\u001b[0m │  │\n",
              "│ │ \u001b[38;5;141mmode                         \u001b[0m │ \u001b[36m     0\u001b[0m │ \u001b[36m         0\u001b[0m │ \u001b[36m                        1.1\u001b[0m │ \u001b[36m                250000\u001b[0m │  │\n",
              "│ │ \u001b[38;5;141mtime_signature               \u001b[0m │ \u001b[36m     0\u001b[0m │ \u001b[36m         0\u001b[0m │ \u001b[36m                        1.1\u001b[0m │ \u001b[36m                250000\u001b[0m │  │\n",
              "│ └───────────────────────────────┴────────┴────────────┴─────────────────────────────┴────────────────────────┘  │\n",
              "╰────────────────────────────────────────────────────── End ──────────────────────────────────────────────────────╯\n"
            ],
            "text/html": [
              "<pre style=\"white-space:pre;overflow-x:auto;line-height:normal;font-family:Menlo,'DejaVu Sans Mono',consolas,'Courier New',monospace\">╭──────────────────────────────────────────────── skimpy summary ─────────────────────────────────────────────────╮\n",
              "│ <span style=\"font-style: italic\">         Data Summary         </span> <span style=\"font-style: italic\">      Data Types       </span>                                                          │\n",
              "│ ┏━━━━━━━━━━━━━━━━━━━┳━━━━━━━━┓ ┏━━━━━━━━━━━━━┳━━━━━━━┓                                                          │\n",
              "│ ┃<span style=\"color: #008080; text-decoration-color: #008080; font-weight: bold\"> dataframe         </span>┃<span style=\"color: #008080; text-decoration-color: #008080; font-weight: bold\"> Values </span>┃ ┃<span style=\"color: #008080; text-decoration-color: #008080; font-weight: bold\"> Column Type </span>┃<span style=\"color: #008080; text-decoration-color: #008080; font-weight: bold\"> Count </span>┃                                                          │\n",
              "│ ┡━━━━━━━━━━━━━━━━━━━╇━━━━━━━━┩ ┡━━━━━━━━━━━━━╇━━━━━━━┩                                                          │\n",
              "│ │ Number of rows    │ 232725 │ │ float64     │ 9     │                                                          │\n",
              "│ │ Number of columns │ 18     │ │ string      │ 7     │                                                          │\n",
              "│ └───────────────────┴────────┘ │ int64       │ 2     │                                                          │\n",
              "│                                └─────────────┴───────┘                                                          │\n",
              "│ <span style=\"font-style: italic\">                                                    number                                                    </span>  │\n",
              "│ ┏━━━━━━━━━━━━━━━━━━━━━┳━━━━━┳━━━━━━━┳━━━━━━━━━━┳━━━━━━━━━━┳━━━━━━━━━┳━━━━━━━━━┳━━━━━━━━━┳━━━━━━━━━━━┳━━━━━━━━┓  │\n",
              "│ ┃<span style=\"font-weight: bold\"> column_name         </span>┃<span style=\"font-weight: bold\"> NA  </span>┃<span style=\"font-weight: bold\"> NA %  </span>┃<span style=\"font-weight: bold\"> mean     </span>┃<span style=\"font-weight: bold\"> sd       </span>┃<span style=\"font-weight: bold\"> p0      </span>┃<span style=\"font-weight: bold\"> p25     </span>┃<span style=\"font-weight: bold\"> p75     </span>┃<span style=\"font-weight: bold\"> p100      </span>┃<span style=\"font-weight: bold\"> hist   </span>┃  │\n",
              "│ ┡━━━━━━━━━━━━━━━━━━━━━╇━━━━━╇━━━━━━━╇━━━━━━━━━━╇━━━━━━━━━━╇━━━━━━━━━╇━━━━━━━━━╇━━━━━━━━━╇━━━━━━━━━━━╇━━━━━━━━┩  │\n",
              "│ │ <span style=\"color: #af87ff; text-decoration-color: #af87ff\">popularity         </span> │ <span style=\"color: #008080; text-decoration-color: #008080\">  0</span> │ <span style=\"color: #008080; text-decoration-color: #008080\">    0</span> │ <span style=\"color: #008080; text-decoration-color: #008080\">      41</span> │ <span style=\"color: #008080; text-decoration-color: #008080\">      18</span> │ <span style=\"color: #008080; text-decoration-color: #008080\">      0</span> │ <span style=\"color: #008080; text-decoration-color: #008080\">     29</span> │ <span style=\"color: #008080; text-decoration-color: #008080\">     55</span> │ <span style=\"color: #008080; text-decoration-color: #008080\">      100</span> │ <span style=\"color: #008000; text-decoration-color: #008000\">▃▆██▂ </span> │  │\n",
              "│ │ <span style=\"color: #af87ff; text-decoration-color: #af87ff\">acousticness       </span> │ <span style=\"color: #008080; text-decoration-color: #008080\">  0</span> │ <span style=\"color: #008080; text-decoration-color: #008080\">    0</span> │ <span style=\"color: #008080; text-decoration-color: #008080\">    0.37</span> │ <span style=\"color: #008080; text-decoration-color: #008080\">    0.35</span> │ <span style=\"color: #008080; text-decoration-color: #008080\">      0</span> │ <span style=\"color: #008080; text-decoration-color: #008080\">  0.038</span> │ <span style=\"color: #008080; text-decoration-color: #008080\">   0.72</span> │ <span style=\"color: #008080; text-decoration-color: #008080\">        1</span> │ <span style=\"color: #008000; text-decoration-color: #008000\">█▂▂▁▂▃</span> │  │\n",
              "│ │ <span style=\"color: #af87ff; text-decoration-color: #af87ff\">danceability       </span> │ <span style=\"color: #008080; text-decoration-color: #008080\">  0</span> │ <span style=\"color: #008080; text-decoration-color: #008080\">    0</span> │ <span style=\"color: #008080; text-decoration-color: #008080\">    0.55</span> │ <span style=\"color: #008080; text-decoration-color: #008080\">    0.19</span> │ <span style=\"color: #008080; text-decoration-color: #008080\">  0.057</span> │ <span style=\"color: #008080; text-decoration-color: #008080\">   0.43</span> │ <span style=\"color: #008080; text-decoration-color: #008080\">   0.69</span> │ <span style=\"color: #008080; text-decoration-color: #008080\">     0.99</span> │ <span style=\"color: #008000; text-decoration-color: #008000\">▁▃▆█▆▁</span> │  │\n",
              "│ │ <span style=\"color: #af87ff; text-decoration-color: #af87ff\">duration_ms        </span> │ <span style=\"color: #008080; text-decoration-color: #008080\">  0</span> │ <span style=\"color: #008080; text-decoration-color: #008080\">    0</span> │ <span style=\"color: #008080; text-decoration-color: #008080\">  240000</span> │ <span style=\"color: #008080; text-decoration-color: #008080\">  120000</span> │ <span style=\"color: #008080; text-decoration-color: #008080\">  15000</span> │ <span style=\"color: #008080; text-decoration-color: #008080\"> 180000</span> │ <span style=\"color: #008080; text-decoration-color: #008080\"> 270000</span> │ <span style=\"color: #008080; text-decoration-color: #008080\">  5600000</span> │ <span style=\"color: #008000; text-decoration-color: #008000\">  █   </span> │  │\n",
              "│ │ <span style=\"color: #af87ff; text-decoration-color: #af87ff\">energy             </span> │ <span style=\"color: #008080; text-decoration-color: #008080\">  0</span> │ <span style=\"color: #008080; text-decoration-color: #008080\">    0</span> │ <span style=\"color: #008080; text-decoration-color: #008080\">    0.57</span> │ <span style=\"color: #008080; text-decoration-color: #008080\">    0.26</span> │ <span style=\"color: #008080; text-decoration-color: #008080\">  2e-05</span> │ <span style=\"color: #008080; text-decoration-color: #008080\">   0.39</span> │ <span style=\"color: #008080; text-decoration-color: #008080\">   0.79</span> │ <span style=\"color: #008080; text-decoration-color: #008080\">        1</span> │ <span style=\"color: #008000; text-decoration-color: #008000\">▄▄▆██▇</span> │  │\n",
              "│ │ <span style=\"color: #af87ff; text-decoration-color: #af87ff\">instrumentalness   </span> │ <span style=\"color: #008080; text-decoration-color: #008080\">  0</span> │ <span style=\"color: #008080; text-decoration-color: #008080\">    0</span> │ <span style=\"color: #008080; text-decoration-color: #008080\">    0.15</span> │ <span style=\"color: #008080; text-decoration-color: #008080\">     0.3</span> │ <span style=\"color: #008080; text-decoration-color: #008080\">      0</span> │ <span style=\"color: #008080; text-decoration-color: #008080\">      0</span> │ <span style=\"color: #008080; text-decoration-color: #008080\">  0.036</span> │ <span style=\"color: #008080; text-decoration-color: #008080\">        1</span> │ <span style=\"color: #008000; text-decoration-color: #008000\">█    ▁</span> │  │\n",
              "│ │ <span style=\"color: #af87ff; text-decoration-color: #af87ff\">liveness           </span> │ <span style=\"color: #008080; text-decoration-color: #008080\">  0</span> │ <span style=\"color: #008080; text-decoration-color: #008080\">    0</span> │ <span style=\"color: #008080; text-decoration-color: #008080\">    0.22</span> │ <span style=\"color: #008080; text-decoration-color: #008080\">     0.2</span> │ <span style=\"color: #008080; text-decoration-color: #008080\"> 0.0097</span> │ <span style=\"color: #008080; text-decoration-color: #008080\">  0.097</span> │ <span style=\"color: #008080; text-decoration-color: #008080\">   0.26</span> │ <span style=\"color: #008080; text-decoration-color: #008080\">        1</span> │ <span style=\"color: #008000; text-decoration-color: #008000\"> █▂▁  </span> │  │\n",
              "│ │ <span style=\"color: #af87ff; text-decoration-color: #af87ff\">loudness           </span> │ <span style=\"color: #008080; text-decoration-color: #008080\">  0</span> │ <span style=\"color: #008080; text-decoration-color: #008080\">    0</span> │ <span style=\"color: #008080; text-decoration-color: #008080\">    -9.6</span> │ <span style=\"color: #008080; text-decoration-color: #008080\">       6</span> │ <span style=\"color: #008080; text-decoration-color: #008080\">    -52</span> │ <span style=\"color: #008080; text-decoration-color: #008080\">    -12</span> │ <span style=\"color: #008080; text-decoration-color: #008080\">   -5.5</span> │ <span style=\"color: #008080; text-decoration-color: #008080\">      3.7</span> │ <span style=\"color: #008000; text-decoration-color: #008000\">   ▂█▄</span> │  │\n",
              "│ │ <span style=\"color: #af87ff; text-decoration-color: #af87ff\">speechiness        </span> │ <span style=\"color: #008080; text-decoration-color: #008080\">  0</span> │ <span style=\"color: #008080; text-decoration-color: #008080\">    0</span> │ <span style=\"color: #008080; text-decoration-color: #008080\">    0.12</span> │ <span style=\"color: #008080; text-decoration-color: #008080\">    0.19</span> │ <span style=\"color: #008080; text-decoration-color: #008080\">  0.022</span> │ <span style=\"color: #008080; text-decoration-color: #008080\">  0.037</span> │ <span style=\"color: #008080; text-decoration-color: #008080\">    0.1</span> │ <span style=\"color: #008080; text-decoration-color: #008080\">     0.97</span> │ <span style=\"color: #008000; text-decoration-color: #008000\">  █▁  </span> │  │\n",
              "│ │ <span style=\"color: #af87ff; text-decoration-color: #af87ff\">tempo              </span> │ <span style=\"color: #008080; text-decoration-color: #008080\">  0</span> │ <span style=\"color: #008080; text-decoration-color: #008080\">    0</span> │ <span style=\"color: #008080; text-decoration-color: #008080\">     120</span> │ <span style=\"color: #008080; text-decoration-color: #008080\">      31</span> │ <span style=\"color: #008080; text-decoration-color: #008080\">     30</span> │ <span style=\"color: #008080; text-decoration-color: #008080\">     93</span> │ <span style=\"color: #008080; text-decoration-color: #008080\">    140</span> │ <span style=\"color: #008080; text-decoration-color: #008080\">      240</span> │ <span style=\"color: #008000; text-decoration-color: #008000\"> ▇█▅▁ </span> │  │\n",
              "│ │ <span style=\"color: #af87ff; text-decoration-color: #af87ff\">valence            </span> │ <span style=\"color: #008080; text-decoration-color: #008080\">  0</span> │ <span style=\"color: #008080; text-decoration-color: #008080\">    0</span> │ <span style=\"color: #008080; text-decoration-color: #008080\">    0.45</span> │ <span style=\"color: #008080; text-decoration-color: #008080\">    0.26</span> │ <span style=\"color: #008080; text-decoration-color: #008080\">      0</span> │ <span style=\"color: #008080; text-decoration-color: #008080\">   0.24</span> │ <span style=\"color: #008080; text-decoration-color: #008080\">   0.66</span> │ <span style=\"color: #008080; text-decoration-color: #008080\">        1</span> │ <span style=\"color: #008000; text-decoration-color: #008000\">▇██▇▆▄</span> │  │\n",
              "│ └─────────────────────┴─────┴───────┴──────────┴──────────┴─────────┴─────────┴─────────┴───────────┴────────┘  │\n",
              "│ <span style=\"font-style: italic\">                                                    string                                                    </span>  │\n",
              "│ ┏━━━━━━━━━━━━━━━━━━━━━━━━━━━━━━━┳━━━━━━━━┳━━━━━━━━━━━━┳━━━━━━━━━━━━━━━━━━━━━━━━━━━━━┳━━━━━━━━━━━━━━━━━━━━━━━━┓  │\n",
              "│ ┃<span style=\"font-weight: bold\"> column_name                   </span>┃<span style=\"font-weight: bold\"> NA     </span>┃<span style=\"font-weight: bold\"> NA %       </span>┃<span style=\"font-weight: bold\"> words per row               </span>┃<span style=\"font-weight: bold\"> total words            </span>┃  │\n",
              "│ ┡━━━━━━━━━━━━━━━━━━━━━━━━━━━━━━━╇━━━━━━━━╇━━━━━━━━━━━━╇━━━━━━━━━━━━━━━━━━━━━━━━━━━━━╇━━━━━━━━━━━━━━━━━━━━━━━━┩  │\n",
              "│ │ <span style=\"color: #af87ff; text-decoration-color: #af87ff\">genre                        </span> │ <span style=\"color: #008080; text-decoration-color: #008080\">     0</span> │ <span style=\"color: #008080; text-decoration-color: #008080\">         0</span> │ <span style=\"color: #008080; text-decoration-color: #008080\">                        1.1</span> │ <span style=\"color: #008080; text-decoration-color: #008080\">                250000</span> │  │\n",
              "│ │ <span style=\"color: #af87ff; text-decoration-color: #af87ff\">artist_name                  </span> │ <span style=\"color: #008080; text-decoration-color: #008080\">     0</span> │ <span style=\"color: #008080; text-decoration-color: #008080\">         0</span> │ <span style=\"color: #008080; text-decoration-color: #008080\">                        1.1</span> │ <span style=\"color: #008080; text-decoration-color: #008080\">                250000</span> │  │\n",
              "│ │ <span style=\"color: #af87ff; text-decoration-color: #af87ff\">track_name                   </span> │ <span style=\"color: #008080; text-decoration-color: #008080\">     0</span> │ <span style=\"color: #008080; text-decoration-color: #008080\">         0</span> │ <span style=\"color: #008080; text-decoration-color: #008080\">                        1.1</span> │ <span style=\"color: #008080; text-decoration-color: #008080\">                250000</span> │  │\n",
              "│ │ <span style=\"color: #af87ff; text-decoration-color: #af87ff\">track_id                     </span> │ <span style=\"color: #008080; text-decoration-color: #008080\">     0</span> │ <span style=\"color: #008080; text-decoration-color: #008080\">         0</span> │ <span style=\"color: #008080; text-decoration-color: #008080\">                        1.1</span> │ <span style=\"color: #008080; text-decoration-color: #008080\">                250000</span> │  │\n",
              "│ │ <span style=\"color: #af87ff; text-decoration-color: #af87ff\">key                          </span> │ <span style=\"color: #008080; text-decoration-color: #008080\">     0</span> │ <span style=\"color: #008080; text-decoration-color: #008080\">         0</span> │ <span style=\"color: #008080; text-decoration-color: #008080\">                        1.1</span> │ <span style=\"color: #008080; text-decoration-color: #008080\">                250000</span> │  │\n",
              "│ │ <span style=\"color: #af87ff; text-decoration-color: #af87ff\">mode                         </span> │ <span style=\"color: #008080; text-decoration-color: #008080\">     0</span> │ <span style=\"color: #008080; text-decoration-color: #008080\">         0</span> │ <span style=\"color: #008080; text-decoration-color: #008080\">                        1.1</span> │ <span style=\"color: #008080; text-decoration-color: #008080\">                250000</span> │  │\n",
              "│ │ <span style=\"color: #af87ff; text-decoration-color: #af87ff\">time_signature               </span> │ <span style=\"color: #008080; text-decoration-color: #008080\">     0</span> │ <span style=\"color: #008080; text-decoration-color: #008080\">         0</span> │ <span style=\"color: #008080; text-decoration-color: #008080\">                        1.1</span> │ <span style=\"color: #008080; text-decoration-color: #008080\">                250000</span> │  │\n",
              "│ └───────────────────────────────┴────────┴────────────┴─────────────────────────────┴────────────────────────┘  │\n",
              "╰────────────────────────────────────────────────────── End ──────────────────────────────────────────────────────╯\n",
              "</pre>\n"
            ]
          },
          "metadata": {}
        }
      ]
    },
    {
      "cell_type": "code",
      "source": [
        "df[\"mode\"] = LabelEncoder().fit_transform(df[\"mode\"])"
      ],
      "metadata": {
        "id": "MbT4DDK0762B"
      },
      "execution_count": null,
      "outputs": []
    },
    {
      "cell_type": "code",
      "source": [
        "df['time_signature'] = df.time_signature.apply(lambda x : int(x.replace('/4', '')))"
      ],
      "metadata": {
        "id": "82kuL-4i6SVI"
      },
      "execution_count": null,
      "outputs": []
    },
    {
      "cell_type": "code",
      "source": [
        "df = pd.concat([df , df['genre'].str.get_dummies(), df['key'].str.get_dummies()], axis = 1)"
      ],
      "metadata": {
        "id": "m31NwW_-6SYN"
      },
      "execution_count": null,
      "outputs": []
    },
    {
      "cell_type": "markdown",
      "source": [
        "## Data preparation for ML"
      ],
      "metadata": {
        "id": "fGFvJIAITNHe"
      }
    },
    {
      "cell_type": "markdown",
      "source": [
        "I choose to make regressor model to predict 'danceability'"
      ],
      "metadata": {
        "id": "IGmU6BSAjQNG"
      }
    },
    {
      "cell_type": "code",
      "source": [
        "target_column = ['danceability']\n",
        "numerical_features = list(df.select_dtypes(include=np.number).columns)\n",
        "numerical_features.remove(target_column[0])"
      ],
      "metadata": {
        "id": "n4QsNjCy6SbF"
      },
      "execution_count": null,
      "outputs": []
    },
    {
      "cell_type": "code",
      "source": [
        "df = df[numerical_features + target_column]\n",
        "df"
      ],
      "metadata": {
        "colab": {
          "base_uri": "https://localhost:8080/",
          "height": 424
        },
        "id": "inajhYwz6Sd6",
        "outputId": "a3fe0e18-d56b-4dbd-c02f-499cd0291f0e"
      },
      "execution_count": null,
      "outputs": [
        {
          "output_type": "execute_result",
          "data": {
            "text/plain": [
              "        popularity  acousticness  duration_ms  energy  instrumentalness  \\\n",
              "0                0       0.61100        99373   0.910          0.000000   \n",
              "1                1       0.24600       137373   0.737          0.000000   \n",
              "2                3       0.95200       170267   0.131          0.000000   \n",
              "3                0       0.70300       152427   0.326          0.000000   \n",
              "4                4       0.95000        82625   0.225          0.123000   \n",
              "...            ...           ...          ...     ...               ...   \n",
              "232720          39       0.00384       326240   0.714          0.544000   \n",
              "232721          38       0.03290       282447   0.683          0.000880   \n",
              "232722          47       0.90100       166960   0.419          0.000000   \n",
              "232723          44       0.26200       222442   0.704          0.000000   \n",
              "232724          35       0.09730       323027   0.470          0.000049   \n",
              "\n",
              "        liveness  loudness  mode  speechiness    tempo  ...  C  C#  D  D#  E  \\\n",
              "0         0.3460    -1.828     0       0.0525  166.969  ...  0   1  0   0  0   \n",
              "1         0.1510    -5.559     1       0.0868  174.003  ...  0   0  0   0  0   \n",
              "2         0.1030   -13.879     1       0.0362   99.488  ...  1   0  0   0  0   \n",
              "3         0.0985   -12.178     0       0.0395  171.758  ...  0   1  0   0  0   \n",
              "4         0.2020   -21.150     0       0.0456  140.576  ...  0   0  0   0  0   \n",
              "...          ...       ...   ...          ...      ...  ... ..  .. ..  .. ..   \n",
              "232720    0.0845   -10.626     0       0.0316  115.542  ...  0   0  1   0  0   \n",
              "232721    0.2370    -6.944     1       0.0337  113.830  ...  0   0  0   0  1   \n",
              "232722    0.0945    -8.282     0       0.1480   84.135  ...  0   0  1   0  0   \n",
              "232723    0.3330    -7.137     0       0.1460  100.031  ...  0   0  0   0  0   \n",
              "232724    0.0836    -6.708     1       0.0287  113.897  ...  0   0  0   0  0   \n",
              "\n",
              "        F  F#  G  G#  danceability  \n",
              "0       0   0  0   0         0.389  \n",
              "1       0   1  0   0         0.590  \n",
              "2       0   0  0   0         0.663  \n",
              "3       0   0  0   0         0.240  \n",
              "4       1   0  0   0         0.331  \n",
              "...    ..  .. ..  ..           ...  \n",
              "232720  0   0  0   0         0.687  \n",
              "232721  0   0  0   0         0.785  \n",
              "232722  0   0  0   0         0.517  \n",
              "232723  0   0  0   0         0.745  \n",
              "232724  0   0  0   1         0.758  \n",
              "\n",
              "[232725 rows x 52 columns]"
            ],
            "text/html": [
              "\n",
              "  <div id=\"df-21263229-3851-4f6f-84cb-0740d9c5fde0\">\n",
              "    <div class=\"colab-df-container\">\n",
              "      <div>\n",
              "<style scoped>\n",
              "    .dataframe tbody tr th:only-of-type {\n",
              "        vertical-align: middle;\n",
              "    }\n",
              "\n",
              "    .dataframe tbody tr th {\n",
              "        vertical-align: top;\n",
              "    }\n",
              "\n",
              "    .dataframe thead th {\n",
              "        text-align: right;\n",
              "    }\n",
              "</style>\n",
              "<table border=\"1\" class=\"dataframe\">\n",
              "  <thead>\n",
              "    <tr style=\"text-align: right;\">\n",
              "      <th></th>\n",
              "      <th>popularity</th>\n",
              "      <th>acousticness</th>\n",
              "      <th>duration_ms</th>\n",
              "      <th>energy</th>\n",
              "      <th>instrumentalness</th>\n",
              "      <th>liveness</th>\n",
              "      <th>loudness</th>\n",
              "      <th>mode</th>\n",
              "      <th>speechiness</th>\n",
              "      <th>tempo</th>\n",
              "      <th>...</th>\n",
              "      <th>C</th>\n",
              "      <th>C#</th>\n",
              "      <th>D</th>\n",
              "      <th>D#</th>\n",
              "      <th>E</th>\n",
              "      <th>F</th>\n",
              "      <th>F#</th>\n",
              "      <th>G</th>\n",
              "      <th>G#</th>\n",
              "      <th>danceability</th>\n",
              "    </tr>\n",
              "  </thead>\n",
              "  <tbody>\n",
              "    <tr>\n",
              "      <th>0</th>\n",
              "      <td>0</td>\n",
              "      <td>0.61100</td>\n",
              "      <td>99373</td>\n",
              "      <td>0.910</td>\n",
              "      <td>0.000000</td>\n",
              "      <td>0.3460</td>\n",
              "      <td>-1.828</td>\n",
              "      <td>0</td>\n",
              "      <td>0.0525</td>\n",
              "      <td>166.969</td>\n",
              "      <td>...</td>\n",
              "      <td>0</td>\n",
              "      <td>1</td>\n",
              "      <td>0</td>\n",
              "      <td>0</td>\n",
              "      <td>0</td>\n",
              "      <td>0</td>\n",
              "      <td>0</td>\n",
              "      <td>0</td>\n",
              "      <td>0</td>\n",
              "      <td>0.389</td>\n",
              "    </tr>\n",
              "    <tr>\n",
              "      <th>1</th>\n",
              "      <td>1</td>\n",
              "      <td>0.24600</td>\n",
              "      <td>137373</td>\n",
              "      <td>0.737</td>\n",
              "      <td>0.000000</td>\n",
              "      <td>0.1510</td>\n",
              "      <td>-5.559</td>\n",
              "      <td>1</td>\n",
              "      <td>0.0868</td>\n",
              "      <td>174.003</td>\n",
              "      <td>...</td>\n",
              "      <td>0</td>\n",
              "      <td>0</td>\n",
              "      <td>0</td>\n",
              "      <td>0</td>\n",
              "      <td>0</td>\n",
              "      <td>0</td>\n",
              "      <td>1</td>\n",
              "      <td>0</td>\n",
              "      <td>0</td>\n",
              "      <td>0.590</td>\n",
              "    </tr>\n",
              "    <tr>\n",
              "      <th>2</th>\n",
              "      <td>3</td>\n",
              "      <td>0.95200</td>\n",
              "      <td>170267</td>\n",
              "      <td>0.131</td>\n",
              "      <td>0.000000</td>\n",
              "      <td>0.1030</td>\n",
              "      <td>-13.879</td>\n",
              "      <td>1</td>\n",
              "      <td>0.0362</td>\n",
              "      <td>99.488</td>\n",
              "      <td>...</td>\n",
              "      <td>1</td>\n",
              "      <td>0</td>\n",
              "      <td>0</td>\n",
              "      <td>0</td>\n",
              "      <td>0</td>\n",
              "      <td>0</td>\n",
              "      <td>0</td>\n",
              "      <td>0</td>\n",
              "      <td>0</td>\n",
              "      <td>0.663</td>\n",
              "    </tr>\n",
              "    <tr>\n",
              "      <th>3</th>\n",
              "      <td>0</td>\n",
              "      <td>0.70300</td>\n",
              "      <td>152427</td>\n",
              "      <td>0.326</td>\n",
              "      <td>0.000000</td>\n",
              "      <td>0.0985</td>\n",
              "      <td>-12.178</td>\n",
              "      <td>0</td>\n",
              "      <td>0.0395</td>\n",
              "      <td>171.758</td>\n",
              "      <td>...</td>\n",
              "      <td>0</td>\n",
              "      <td>1</td>\n",
              "      <td>0</td>\n",
              "      <td>0</td>\n",
              "      <td>0</td>\n",
              "      <td>0</td>\n",
              "      <td>0</td>\n",
              "      <td>0</td>\n",
              "      <td>0</td>\n",
              "      <td>0.240</td>\n",
              "    </tr>\n",
              "    <tr>\n",
              "      <th>4</th>\n",
              "      <td>4</td>\n",
              "      <td>0.95000</td>\n",
              "      <td>82625</td>\n",
              "      <td>0.225</td>\n",
              "      <td>0.123000</td>\n",
              "      <td>0.2020</td>\n",
              "      <td>-21.150</td>\n",
              "      <td>0</td>\n",
              "      <td>0.0456</td>\n",
              "      <td>140.576</td>\n",
              "      <td>...</td>\n",
              "      <td>0</td>\n",
              "      <td>0</td>\n",
              "      <td>0</td>\n",
              "      <td>0</td>\n",
              "      <td>0</td>\n",
              "      <td>1</td>\n",
              "      <td>0</td>\n",
              "      <td>0</td>\n",
              "      <td>0</td>\n",
              "      <td>0.331</td>\n",
              "    </tr>\n",
              "    <tr>\n",
              "      <th>...</th>\n",
              "      <td>...</td>\n",
              "      <td>...</td>\n",
              "      <td>...</td>\n",
              "      <td>...</td>\n",
              "      <td>...</td>\n",
              "      <td>...</td>\n",
              "      <td>...</td>\n",
              "      <td>...</td>\n",
              "      <td>...</td>\n",
              "      <td>...</td>\n",
              "      <td>...</td>\n",
              "      <td>...</td>\n",
              "      <td>...</td>\n",
              "      <td>...</td>\n",
              "      <td>...</td>\n",
              "      <td>...</td>\n",
              "      <td>...</td>\n",
              "      <td>...</td>\n",
              "      <td>...</td>\n",
              "      <td>...</td>\n",
              "      <td>...</td>\n",
              "    </tr>\n",
              "    <tr>\n",
              "      <th>232720</th>\n",
              "      <td>39</td>\n",
              "      <td>0.00384</td>\n",
              "      <td>326240</td>\n",
              "      <td>0.714</td>\n",
              "      <td>0.544000</td>\n",
              "      <td>0.0845</td>\n",
              "      <td>-10.626</td>\n",
              "      <td>0</td>\n",
              "      <td>0.0316</td>\n",
              "      <td>115.542</td>\n",
              "      <td>...</td>\n",
              "      <td>0</td>\n",
              "      <td>0</td>\n",
              "      <td>1</td>\n",
              "      <td>0</td>\n",
              "      <td>0</td>\n",
              "      <td>0</td>\n",
              "      <td>0</td>\n",
              "      <td>0</td>\n",
              "      <td>0</td>\n",
              "      <td>0.687</td>\n",
              "    </tr>\n",
              "    <tr>\n",
              "      <th>232721</th>\n",
              "      <td>38</td>\n",
              "      <td>0.03290</td>\n",
              "      <td>282447</td>\n",
              "      <td>0.683</td>\n",
              "      <td>0.000880</td>\n",
              "      <td>0.2370</td>\n",
              "      <td>-6.944</td>\n",
              "      <td>1</td>\n",
              "      <td>0.0337</td>\n",
              "      <td>113.830</td>\n",
              "      <td>...</td>\n",
              "      <td>0</td>\n",
              "      <td>0</td>\n",
              "      <td>0</td>\n",
              "      <td>0</td>\n",
              "      <td>1</td>\n",
              "      <td>0</td>\n",
              "      <td>0</td>\n",
              "      <td>0</td>\n",
              "      <td>0</td>\n",
              "      <td>0.785</td>\n",
              "    </tr>\n",
              "    <tr>\n",
              "      <th>232722</th>\n",
              "      <td>47</td>\n",
              "      <td>0.90100</td>\n",
              "      <td>166960</td>\n",
              "      <td>0.419</td>\n",
              "      <td>0.000000</td>\n",
              "      <td>0.0945</td>\n",
              "      <td>-8.282</td>\n",
              "      <td>0</td>\n",
              "      <td>0.1480</td>\n",
              "      <td>84.135</td>\n",
              "      <td>...</td>\n",
              "      <td>0</td>\n",
              "      <td>0</td>\n",
              "      <td>1</td>\n",
              "      <td>0</td>\n",
              "      <td>0</td>\n",
              "      <td>0</td>\n",
              "      <td>0</td>\n",
              "      <td>0</td>\n",
              "      <td>0</td>\n",
              "      <td>0.517</td>\n",
              "    </tr>\n",
              "    <tr>\n",
              "      <th>232723</th>\n",
              "      <td>44</td>\n",
              "      <td>0.26200</td>\n",
              "      <td>222442</td>\n",
              "      <td>0.704</td>\n",
              "      <td>0.000000</td>\n",
              "      <td>0.3330</td>\n",
              "      <td>-7.137</td>\n",
              "      <td>0</td>\n",
              "      <td>0.1460</td>\n",
              "      <td>100.031</td>\n",
              "      <td>...</td>\n",
              "      <td>0</td>\n",
              "      <td>0</td>\n",
              "      <td>0</td>\n",
              "      <td>0</td>\n",
              "      <td>0</td>\n",
              "      <td>0</td>\n",
              "      <td>0</td>\n",
              "      <td>0</td>\n",
              "      <td>0</td>\n",
              "      <td>0.745</td>\n",
              "    </tr>\n",
              "    <tr>\n",
              "      <th>232724</th>\n",
              "      <td>35</td>\n",
              "      <td>0.09730</td>\n",
              "      <td>323027</td>\n",
              "      <td>0.470</td>\n",
              "      <td>0.000049</td>\n",
              "      <td>0.0836</td>\n",
              "      <td>-6.708</td>\n",
              "      <td>1</td>\n",
              "      <td>0.0287</td>\n",
              "      <td>113.897</td>\n",
              "      <td>...</td>\n",
              "      <td>0</td>\n",
              "      <td>0</td>\n",
              "      <td>0</td>\n",
              "      <td>0</td>\n",
              "      <td>0</td>\n",
              "      <td>0</td>\n",
              "      <td>0</td>\n",
              "      <td>0</td>\n",
              "      <td>1</td>\n",
              "      <td>0.758</td>\n",
              "    </tr>\n",
              "  </tbody>\n",
              "</table>\n",
              "<p>232725 rows × 52 columns</p>\n",
              "</div>\n",
              "      <button class=\"colab-df-convert\" onclick=\"convertToInteractive('df-21263229-3851-4f6f-84cb-0740d9c5fde0')\"\n",
              "              title=\"Convert this dataframe to an interactive table.\"\n",
              "              style=\"display:none;\">\n",
              "        \n",
              "  <svg xmlns=\"http://www.w3.org/2000/svg\" height=\"24px\"viewBox=\"0 0 24 24\"\n",
              "       width=\"24px\">\n",
              "    <path d=\"M0 0h24v24H0V0z\" fill=\"none\"/>\n",
              "    <path d=\"M18.56 5.44l.94 2.06.94-2.06 2.06-.94-2.06-.94-.94-2.06-.94 2.06-2.06.94zm-11 1L8.5 8.5l.94-2.06 2.06-.94-2.06-.94L8.5 2.5l-.94 2.06-2.06.94zm10 10l.94 2.06.94-2.06 2.06-.94-2.06-.94-.94-2.06-.94 2.06-2.06.94z\"/><path d=\"M17.41 7.96l-1.37-1.37c-.4-.4-.92-.59-1.43-.59-.52 0-1.04.2-1.43.59L10.3 9.45l-7.72 7.72c-.78.78-.78 2.05 0 2.83L4 21.41c.39.39.9.59 1.41.59.51 0 1.02-.2 1.41-.59l7.78-7.78 2.81-2.81c.8-.78.8-2.07 0-2.86zM5.41 20L4 18.59l7.72-7.72 1.47 1.35L5.41 20z\"/>\n",
              "  </svg>\n",
              "      </button>\n",
              "      \n",
              "  <style>\n",
              "    .colab-df-container {\n",
              "      display:flex;\n",
              "      flex-wrap:wrap;\n",
              "      gap: 12px;\n",
              "    }\n",
              "\n",
              "    .colab-df-convert {\n",
              "      background-color: #E8F0FE;\n",
              "      border: none;\n",
              "      border-radius: 50%;\n",
              "      cursor: pointer;\n",
              "      display: none;\n",
              "      fill: #1967D2;\n",
              "      height: 32px;\n",
              "      padding: 0 0 0 0;\n",
              "      width: 32px;\n",
              "    }\n",
              "\n",
              "    .colab-df-convert:hover {\n",
              "      background-color: #E2EBFA;\n",
              "      box-shadow: 0px 1px 2px rgba(60, 64, 67, 0.3), 0px 1px 3px 1px rgba(60, 64, 67, 0.15);\n",
              "      fill: #174EA6;\n",
              "    }\n",
              "\n",
              "    [theme=dark] .colab-df-convert {\n",
              "      background-color: #3B4455;\n",
              "      fill: #D2E3FC;\n",
              "    }\n",
              "\n",
              "    [theme=dark] .colab-df-convert:hover {\n",
              "      background-color: #434B5C;\n",
              "      box-shadow: 0px 1px 3px 1px rgba(0, 0, 0, 0.15);\n",
              "      filter: drop-shadow(0px 1px 2px rgba(0, 0, 0, 0.3));\n",
              "      fill: #FFFFFF;\n",
              "    }\n",
              "  </style>\n",
              "\n",
              "      <script>\n",
              "        const buttonEl =\n",
              "          document.querySelector('#df-21263229-3851-4f6f-84cb-0740d9c5fde0 button.colab-df-convert');\n",
              "        buttonEl.style.display =\n",
              "          google.colab.kernel.accessAllowed ? 'block' : 'none';\n",
              "\n",
              "        async function convertToInteractive(key) {\n",
              "          const element = document.querySelector('#df-21263229-3851-4f6f-84cb-0740d9c5fde0');\n",
              "          const dataTable =\n",
              "            await google.colab.kernel.invokeFunction('convertToInteractive',\n",
              "                                                     [key], {});\n",
              "          if (!dataTable) return;\n",
              "\n",
              "          const docLinkHtml = 'Like what you see? Visit the ' +\n",
              "            '<a target=\"_blank\" href=https://colab.research.google.com/notebooks/data_table.ipynb>data table notebook</a>'\n",
              "            + ' to learn more about interactive tables.';\n",
              "          element.innerHTML = '';\n",
              "          dataTable['output_type'] = 'display_data';\n",
              "          await google.colab.output.renderOutput(dataTable, element);\n",
              "          const docLink = document.createElement('div');\n",
              "          docLink.innerHTML = docLinkHtml;\n",
              "          element.appendChild(docLink);\n",
              "        }\n",
              "      </script>\n",
              "    </div>\n",
              "  </div>\n",
              "  "
            ]
          },
          "metadata": {},
          "execution_count": 9
        }
      ]
    },
    {
      "cell_type": "code",
      "source": [
        "X = df[numerical_features]\n",
        "y = df[target_column].values.reshape(df.shape[0],)\n",
        "\n",
        "X_train, X_test, y_train, y_test = train_test_split(X, y, test_size=0.3,random_state=42)"
      ],
      "metadata": {
        "id": "FQZJO-ji6Sl_"
      },
      "execution_count": null,
      "outputs": []
    },
    {
      "cell_type": "code",
      "source": [
        "features_to_norm = ['popularity', 'duration_ms', 'loudness', 'tempo']\n",
        "others_features = [f for f in list(X.columns) if f not in features_to_norm]"
      ],
      "metadata": {
        "id": "PB1EMnw_DeQf"
      },
      "execution_count": null,
      "outputs": []
    },
    {
      "cell_type": "code",
      "source": [
        "minmax = MinMaxScaler()\n",
        "\n",
        "norm_data_train = pd.DataFrame(minmax.fit_transform(X_train[features_to_norm]), columns=features_to_norm)\n",
        "norm_data_test = pd.DataFrame(minmax.transform(X_test[features_to_norm]), columns=features_to_norm)\n",
        "\n",
        "other_data_train = X_train[others_features].reset_index(drop=True)\n",
        "other_data_test = X_test[others_features].reset_index(drop=True)\n",
        "\n",
        "\n",
        "X_train_scaled = pd.concat([norm_data_train, other_data_train], axis=1)\n",
        "X_test_scaled = pd.concat([norm_data_test, other_data_test], axis=1)"
      ],
      "metadata": {
        "id": "ix-Cm2AGSJAu"
      },
      "execution_count": null,
      "outputs": []
    },
    {
      "cell_type": "code",
      "source": [
        "# # Create and fit a scaler model\n",
        "# scaler = MinMaxScaler().fit(X_train)\n",
        "\n",
        "# # Your scaler model can now transform your data\n",
        "# X_train_scaled = scaler.transform(X_train)\n",
        "# X_test_scaled = scaler.transform(X_test)"
      ],
      "metadata": {
        "id": "lQU7b0kw6Soy"
      },
      "execution_count": null,
      "outputs": []
    },
    {
      "cell_type": "markdown",
      "source": [
        "## Linear Regression for danceability prediction (regression)"
      ],
      "metadata": {
        "id": "3y-qxu36CK0v"
      }
    },
    {
      "cell_type": "code",
      "source": [
        "lr = LinearRegression()\n",
        "lr.fit(X_train_scaled, y_train)\n",
        "\n",
        "LinearRegression()"
      ],
      "metadata": {
        "colab": {
          "base_uri": "https://localhost:8080/",
          "height": 75
        },
        "id": "OjlGNEgS6Srr",
        "outputId": "f5961c0e-6ac0-48d4-89cf-ae0328b8bd27"
      },
      "execution_count": null,
      "outputs": [
        {
          "output_type": "execute_result",
          "data": {
            "text/plain": [
              "LinearRegression()"
            ],
            "text/html": [
              "<style>#sk-container-id-1 {color: black;background-color: white;}#sk-container-id-1 pre{padding: 0;}#sk-container-id-1 div.sk-toggleable {background-color: white;}#sk-container-id-1 label.sk-toggleable__label {cursor: pointer;display: block;width: 100%;margin-bottom: 0;padding: 0.3em;box-sizing: border-box;text-align: center;}#sk-container-id-1 label.sk-toggleable__label-arrow:before {content: \"▸\";float: left;margin-right: 0.25em;color: #696969;}#sk-container-id-1 label.sk-toggleable__label-arrow:hover:before {color: black;}#sk-container-id-1 div.sk-estimator:hover label.sk-toggleable__label-arrow:before {color: black;}#sk-container-id-1 div.sk-toggleable__content {max-height: 0;max-width: 0;overflow: hidden;text-align: left;background-color: #f0f8ff;}#sk-container-id-1 div.sk-toggleable__content pre {margin: 0.2em;color: black;border-radius: 0.25em;background-color: #f0f8ff;}#sk-container-id-1 input.sk-toggleable__control:checked~div.sk-toggleable__content {max-height: 200px;max-width: 100%;overflow: auto;}#sk-container-id-1 input.sk-toggleable__control:checked~label.sk-toggleable__label-arrow:before {content: \"▾\";}#sk-container-id-1 div.sk-estimator input.sk-toggleable__control:checked~label.sk-toggleable__label {background-color: #d4ebff;}#sk-container-id-1 div.sk-label input.sk-toggleable__control:checked~label.sk-toggleable__label {background-color: #d4ebff;}#sk-container-id-1 input.sk-hidden--visually {border: 0;clip: rect(1px 1px 1px 1px);clip: rect(1px, 1px, 1px, 1px);height: 1px;margin: -1px;overflow: hidden;padding: 0;position: absolute;width: 1px;}#sk-container-id-1 div.sk-estimator {font-family: monospace;background-color: #f0f8ff;border: 1px dotted black;border-radius: 0.25em;box-sizing: border-box;margin-bottom: 0.5em;}#sk-container-id-1 div.sk-estimator:hover {background-color: #d4ebff;}#sk-container-id-1 div.sk-parallel-item::after {content: \"\";width: 100%;border-bottom: 1px solid gray;flex-grow: 1;}#sk-container-id-1 div.sk-label:hover label.sk-toggleable__label {background-color: #d4ebff;}#sk-container-id-1 div.sk-serial::before {content: \"\";position: absolute;border-left: 1px solid gray;box-sizing: border-box;top: 0;bottom: 0;left: 50%;z-index: 0;}#sk-container-id-1 div.sk-serial {display: flex;flex-direction: column;align-items: center;background-color: white;padding-right: 0.2em;padding-left: 0.2em;position: relative;}#sk-container-id-1 div.sk-item {position: relative;z-index: 1;}#sk-container-id-1 div.sk-parallel {display: flex;align-items: stretch;justify-content: center;background-color: white;position: relative;}#sk-container-id-1 div.sk-item::before, #sk-container-id-1 div.sk-parallel-item::before {content: \"\";position: absolute;border-left: 1px solid gray;box-sizing: border-box;top: 0;bottom: 0;left: 50%;z-index: -1;}#sk-container-id-1 div.sk-parallel-item {display: flex;flex-direction: column;z-index: 1;position: relative;background-color: white;}#sk-container-id-1 div.sk-parallel-item:first-child::after {align-self: flex-end;width: 50%;}#sk-container-id-1 div.sk-parallel-item:last-child::after {align-self: flex-start;width: 50%;}#sk-container-id-1 div.sk-parallel-item:only-child::after {width: 0;}#sk-container-id-1 div.sk-dashed-wrapped {border: 1px dashed gray;margin: 0 0.4em 0.5em 0.4em;box-sizing: border-box;padding-bottom: 0.4em;background-color: white;}#sk-container-id-1 div.sk-label label {font-family: monospace;font-weight: bold;display: inline-block;line-height: 1.2em;}#sk-container-id-1 div.sk-label-container {text-align: center;}#sk-container-id-1 div.sk-container {/* jupyter's `normalize.less` sets `[hidden] { display: none; }` but bootstrap.min.css set `[hidden] { display: none !important; }` so we also need the `!important` here to be able to override the default hidden behavior on the sphinx rendered scikit-learn.org. See: https://github.com/scikit-learn/scikit-learn/issues/21755 */display: inline-block !important;position: relative;}#sk-container-id-1 div.sk-text-repr-fallback {display: none;}</style><div id=\"sk-container-id-1\" class=\"sk-top-container\"><div class=\"sk-text-repr-fallback\"><pre>LinearRegression()</pre><b>In a Jupyter environment, please rerun this cell to show the HTML representation or trust the notebook. <br />On GitHub, the HTML representation is unable to render, please try loading this page with nbviewer.org.</b></div><div class=\"sk-container\" hidden><div class=\"sk-item\"><div class=\"sk-estimator sk-toggleable\"><input class=\"sk-toggleable__control sk-hidden--visually\" id=\"sk-estimator-id-1\" type=\"checkbox\" checked><label for=\"sk-estimator-id-1\" class=\"sk-toggleable__label sk-toggleable__label-arrow\">LinearRegression</label><div class=\"sk-toggleable__content\"><pre>LinearRegression()</pre></div></div></div></div></div>"
            ]
          },
          "metadata": {},
          "execution_count": 14
        }
      ]
    },
    {
      "cell_type": "code",
      "source": [
        "pred_train_lr= lr.predict(X_train_scaled)\n",
        "print('Linear Regression : train scores')\n",
        "print('rmse :', np.sqrt(mean_squared_error(y_train,pred_train_lr)))\n",
        "print('r2 :', r2_score(y_train, pred_train_lr))\n",
        "\n",
        "pred_test_lr= lr.predict(X_test_scaled)\n",
        "print('Linear Regression : test scores')\n",
        "print('rmse :', np.sqrt(mean_squared_error(y_test,pred_test_lr)))\n",
        "print('r2 :', r2_score(y_test, pred_test_lr))"
      ],
      "metadata": {
        "colab": {
          "base_uri": "https://localhost:8080/"
        },
        "id": "m4Q-F6Zw-xBT",
        "outputId": "7045dd74-653a-4a96-d29f-a7afcd504d45"
      },
      "execution_count": null,
      "outputs": [
        {
          "output_type": "stream",
          "name": "stdout",
          "text": [
            "Linear Regression : train scores\n",
            "rmse : 0.1201012699976587\n",
            "r2 : 0.58068403503674\n",
            "Linear Regression : test scores\n",
            "rmse : 0.12008304646907816\n",
            "r2 : 0.5828574303610937\n"
          ]
        }
      ]
    },
    {
      "cell_type": "markdown",
      "source": [
        "## Apply 3 ensemble techniques of your choice on the dataset"
      ],
      "metadata": {
        "id": "y21Ag5ZZQjtq"
      }
    },
    {
      "cell_type": "markdown",
      "source": [
        "### Averaging"
      ],
      "metadata": {
        "id": "dP0zy-xOTpvr"
      }
    },
    {
      "cell_type": "code",
      "source": [
        "# Instantiate individual models\n",
        "reg1 = DecisionTreeRegressor()\n",
        "reg2 = LinearRegression()\n",
        "\n",
        "# Create voting regressor\n",
        "voting_ens = VotingRegressor(\n",
        "  estimators=[('dt', reg1), ('lr', reg2)], weights=[2,1])\n",
        "\n",
        "# Fit and predict with the models and ensemble\n",
        "for reg in (reg1, reg2, voting_ens):\n",
        "   reg.fit(X_train_scaled, y_train)\n",
        "   y_pred = reg.predict(X_test_scaled)\n",
        "   print(reg.__class__.__name__, 'rmse :', np.sqrt(mean_absolute_error(y_test, y_pred)))\n",
        "   print(reg.__class__.__name__, 'r2 :', r2_score(y_test, y_pred))\n",
        "   print('+'*50)"
      ],
      "metadata": {
        "colab": {
          "base_uri": "https://localhost:8080/"
        },
        "id": "dr8i7XXW_WfM",
        "outputId": "9cfe05c5-53b3-4c46-876d-af72347167c5"
      },
      "execution_count": null,
      "outputs": [
        {
          "output_type": "stream",
          "name": "stdout",
          "text": [
            "DecisionTreeRegressor rmse : 0.2823498412755261\n",
            "DecisionTreeRegressor r2 : 0.571613103901051\n",
            "++++++++++++++++++++++++++++++++++++++++++++++++++\n",
            "LinearRegression rmse : 0.30897681896260065\n",
            "LinearRegression r2 : 0.5828574303610937\n",
            "++++++++++++++++++++++++++++++++++++++++++++++++++\n",
            "VotingRegressor rmse : 0.27778344754667106\n",
            "VotingRegressor r2 : 0.6775910538520594\n",
            "++++++++++++++++++++++++++++++++++++++++++++++++++\n"
          ]
        }
      ]
    },
    {
      "cell_type": "markdown",
      "source": [
        "### Bagging"
      ],
      "metadata": {
        "id": "cIVrvaIsZvbI"
      }
    },
    {
      "cell_type": "code",
      "source": [
        "from sklearn.ensemble import BaggingRegressor\n",
        "\n",
        "# Initialize weak model\n",
        "base_model = DecisionTreeRegressor(max_depth=3)\n",
        "\n",
        "# Create the bagging classifier\n",
        "clf_bagging = BaggingRegressor(estimator=base_model, n_estimators=1000, oob_score=True)\n",
        "clf_bagging.fit(X_train_scaled, y_train)\n",
        "\n",
        "# Check oob score\n",
        "print(\"oob_score_: \", clf_bagging.oob_score_)"
      ],
      "metadata": {
        "colab": {
          "base_uri": "https://localhost:8080/"
        },
        "id": "R1xHu5-fYEGJ",
        "outputId": "7417e521-475a-49ec-cb9d-6cdad848c0ec"
      },
      "execution_count": null,
      "outputs": [
        {
          "output_type": "stream",
          "name": "stdout",
          "text": [
            "oob_score_:  0.4204677380073599\n"
          ]
        }
      ]
    },
    {
      "cell_type": "code",
      "source": [
        "# Compare with test set\n",
        "pred = clf_bagging.predict(X_test_scaled)\n",
        "rmse = np.sqrt(mean_squared_error(y_test, pred))\n",
        "print('RMSE:', rmse)\n",
        "print('r2: ', r2_score(y_test, pred))"
      ],
      "metadata": {
        "colab": {
          "base_uri": "https://localhost:8080/"
        },
        "id": "oDQS1p4IYKnD",
        "outputId": "89068ee7-833c-4d80-a125-aa453db7900f"
      },
      "execution_count": null,
      "outputs": [
        {
          "output_type": "stream",
          "name": "stdout",
          "text": [
            "RMSE: 0.1414461747948278\n",
            "r2:  0.4212333050971633\n"
          ]
        }
      ]
    },
    {
      "cell_type": "markdown",
      "source": [
        "### AdaBoost"
      ],
      "metadata": {
        "id": "ZMg_H1vRZ143"
      }
    },
    {
      "cell_type": "code",
      "source": [
        "from sklearn.ensemble import AdaBoostRegressor\n",
        "\n",
        "# Initialize weak model\n",
        "base_model = LinearRegression()\n",
        "\n",
        "# Create AdaBoost regressor\n",
        "reg_adaboost = AdaBoostRegressor(estimator=base_model, n_estimators=1000)\n",
        "reg_adaboost.fit(X_train_scaled, y_train)\n",
        "\n",
        "# Predict and compare with y_test\n",
        "pred = reg_adaboost.predict(X_test_scaled)\n",
        "\n",
        "rmse = np.sqrt(mean_squared_error(y_test, pred))\n",
        "print('RMSE:', rmse)\n",
        "print('r2: ', r2_score(y_test, pred))"
      ],
      "metadata": {
        "colab": {
          "base_uri": "https://localhost:8080/"
        },
        "id": "a_4tPtZI_Wrr",
        "outputId": "d95caea3-026a-4c0c-b17b-4e7702d20a09"
      },
      "execution_count": null,
      "outputs": [
        {
          "output_type": "stream",
          "name": "stdout",
          "text": [
            "RMSE: 0.12075335604875698\n",
            "r2:  0.5781874110655276\n"
          ]
        }
      ]
    },
    {
      "cell_type": "markdown",
      "source": [
        "### Gradient Boosting"
      ],
      "metadata": {
        "id": "LbdyQUQPZ7Qv"
      }
    },
    {
      "cell_type": "code",
      "source": [
        "from sklearn.ensemble import GradientBoostingRegressor\n",
        "\n",
        "# Create Gradient Boosting Regressor\n",
        "reg_gradboost = GradientBoostingRegressor(random_state=0)\n",
        "reg_gradboost.fit(X_train_scaled, y_train)\n",
        "\n",
        "# Predict and compare with y_test\n",
        "pred = reg_gradboost.predict(X_test_scaled)\n",
        "\n",
        "rmse = np.sqrt(mean_squared_error(y_test, pred))\n",
        "print('RMSE:', rmse)\n",
        "print('r2: ', r2_score(y_test, pred))"
      ],
      "metadata": {
        "colab": {
          "base_uri": "https://localhost:8080/"
        },
        "id": "9CCX20wWW4AV",
        "outputId": "c5568c4d-ed8b-413f-8eba-87f124b070dd"
      },
      "execution_count": null,
      "outputs": [
        {
          "output_type": "stream",
          "name": "stdout",
          "text": [
            "RMSE: 0.10567159218627008\n",
            "r2:  0.6769738957506077\n"
          ]
        }
      ]
    },
    {
      "cell_type": "code",
      "source": [
        "# Averaging and gradient boosting are better for rmse and r2 score but ada and bagging have worst performance that first linear regression model in r2_score"
      ],
      "metadata": {
        "id": "jtKYUDm4W4DZ"
      },
      "execution_count": null,
      "outputs": []
    },
    {
      "cell_type": "code",
      "source": [],
      "metadata": {
        "id": "V3Ovn50JW4G5"
      },
      "execution_count": null,
      "outputs": []
    },
    {
      "cell_type": "code",
      "source": [],
      "metadata": {
        "id": "cDs8t72rW4J0"
      },
      "execution_count": null,
      "outputs": []
    },
    {
      "cell_type": "code",
      "source": [],
      "metadata": {
        "id": "6o4SyWkEW4M4"
      },
      "execution_count": null,
      "outputs": []
    },
    {
      "cell_type": "code",
      "source": [],
      "metadata": {
        "id": "MseGYKQ2W4P0"
      },
      "execution_count": null,
      "outputs": []
    }
  ]
}