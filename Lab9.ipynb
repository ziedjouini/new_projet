{
  "nbformat": 4,
  "nbformat_minor": 0,
  "metadata": {
    "colab": {
      "provenance": [],
      "toc_visible": true,
      "include_colab_link": true
    },
    "kernelspec": {
      "name": "python3",
      "display_name": "Python 3"
    }
  },
  "cells": [
    {
      "cell_type": "markdown",
      "metadata": {
        "id": "view-in-github",
        "colab_type": "text"
      },
      "source": [
        "<a href=\"https://colab.research.google.com/github/ziedjouini/new_projet/blob/main/Lab9.ipynb\" target=\"_parent\"><img src=\"https://colab.research.google.com/assets/colab-badge.svg\" alt=\"Open In Colab\"/></a>"
      ]
    },
    {
      "cell_type": "markdown",
      "metadata": {
        "id": "Ij_SPg0TS9v4"
      },
      "source": [
        "# LAB PRACTICE 9"
      ]
    },
    {
      "cell_type": "markdown",
      "source": [
        "https://www.youtube.com/watch?v=yrVVN29oCPI"
      ],
      "metadata": {
        "id": "YaIaGL9tWgqW"
      }
    },
    {
      "cell_type": "markdown",
      "metadata": {
        "id": "C8JzYYxKS5nD"
      },
      "source": [
        "Learning Outcomes\n",
        "The goal of this lab session is to learn the Python implementations of classification and regression trees using\n",
        "1. Bagging\n",
        "2. Random Forest\n",
        "3. Boosting"
      ]
    },
    {
      "cell_type": "markdown",
      "metadata": {
        "id": "8nDq6YEZTJzl"
      },
      "source": [
        "## 1. Bagging Classification Tree: Titanic dataset."
      ]
    },
    {
      "cell_type": "code",
      "metadata": {
        "id": "7B83PbNDS4cu"
      },
      "source": [
        "import numpy as np\n",
        "import pandas as pd\n",
        "from sklearn import metrics\n",
        "from sklearn.model_selection import train_test_split\n",
        "from sklearn.tree import DecisionTreeClassifier\n",
        "from sklearn.preprocessing import StandardScaler\n",
        "from sklearn.ensemble import BaggingClassifier"
      ],
      "execution_count": null,
      "outputs": []
    },
    {
      "cell_type": "code",
      "metadata": {
        "id": "HMHH-9OeTGkA"
      },
      "source": [
        "#read the file\n",
        "df = pd.read_csv('Titanic.csv')\n",
        "\n"
      ],
      "execution_count": null,
      "outputs": []
    },
    {
      "cell_type": "code",
      "metadata": {
        "id": "uBmcY-0tTd3l",
        "colab": {
          "base_uri": "https://localhost:8080/"
        },
        "outputId": "2e491f13-5d2c-4318-ff43-edd590002854"
      },
      "source": [
        "#check for missing values\n",
        "df.isnull().values.any()\n"
      ],
      "execution_count": null,
      "outputs": [
        {
          "output_type": "execute_result",
          "data": {
            "text/plain": [
              "False"
            ]
          },
          "metadata": {
            "tags": []
          },
          "execution_count": 3
        }
      ]
    },
    {
      "cell_type": "code",
      "metadata": {
        "id": "YapOluOksoqA",
        "colab": {
          "base_uri": "https://localhost:8080/",
          "height": 419
        },
        "outputId": "ce3ab8d9-4bd2-4791-9b72-57ffec237303"
      },
      "source": [
        "df"
      ],
      "execution_count": null,
      "outputs": [
        {
          "output_type": "execute_result",
          "data": {
            "text/html": [
              "<div>\n",
              "<style scoped>\n",
              "    .dataframe tbody tr th:only-of-type {\n",
              "        vertical-align: middle;\n",
              "    }\n",
              "\n",
              "    .dataframe tbody tr th {\n",
              "        vertical-align: top;\n",
              "    }\n",
              "\n",
              "    .dataframe thead th {\n",
              "        text-align: right;\n",
              "    }\n",
              "</style>\n",
              "<table border=\"1\" class=\"dataframe\">\n",
              "  <thead>\n",
              "    <tr style=\"text-align: right;\">\n",
              "      <th></th>\n",
              "      <th>No.</th>\n",
              "      <th>Survived</th>\n",
              "      <th>Pclass</th>\n",
              "      <th>Sex</th>\n",
              "      <th>Age</th>\n",
              "      <th>SibSp</th>\n",
              "      <th>PrCh</th>\n",
              "      <th>Fare</th>\n",
              "    </tr>\n",
              "  </thead>\n",
              "  <tbody>\n",
              "    <tr>\n",
              "      <th>0</th>\n",
              "      <td>1</td>\n",
              "      <td>0</td>\n",
              "      <td>3</td>\n",
              "      <td>male</td>\n",
              "      <td>22.0</td>\n",
              "      <td>1</td>\n",
              "      <td>0</td>\n",
              "      <td>7.25</td>\n",
              "    </tr>\n",
              "    <tr>\n",
              "      <th>1</th>\n",
              "      <td>2</td>\n",
              "      <td>1</td>\n",
              "      <td>1</td>\n",
              "      <td>female</td>\n",
              "      <td>38.0</td>\n",
              "      <td>1</td>\n",
              "      <td>0</td>\n",
              "      <td>71.28</td>\n",
              "    </tr>\n",
              "    <tr>\n",
              "      <th>2</th>\n",
              "      <td>3</td>\n",
              "      <td>1</td>\n",
              "      <td>3</td>\n",
              "      <td>female</td>\n",
              "      <td>26.0</td>\n",
              "      <td>0</td>\n",
              "      <td>0</td>\n",
              "      <td>7.93</td>\n",
              "    </tr>\n",
              "    <tr>\n",
              "      <th>3</th>\n",
              "      <td>4</td>\n",
              "      <td>1</td>\n",
              "      <td>1</td>\n",
              "      <td>female</td>\n",
              "      <td>35.0</td>\n",
              "      <td>1</td>\n",
              "      <td>0</td>\n",
              "      <td>53.10</td>\n",
              "    </tr>\n",
              "    <tr>\n",
              "      <th>4</th>\n",
              "      <td>5</td>\n",
              "      <td>0</td>\n",
              "      <td>3</td>\n",
              "      <td>male</td>\n",
              "      <td>35.0</td>\n",
              "      <td>0</td>\n",
              "      <td>0</td>\n",
              "      <td>8.05</td>\n",
              "    </tr>\n",
              "    <tr>\n",
              "      <th>...</th>\n",
              "      <td>...</td>\n",
              "      <td>...</td>\n",
              "      <td>...</td>\n",
              "      <td>...</td>\n",
              "      <td>...</td>\n",
              "      <td>...</td>\n",
              "      <td>...</td>\n",
              "      <td>...</td>\n",
              "    </tr>\n",
              "    <tr>\n",
              "      <th>709</th>\n",
              "      <td>710</td>\n",
              "      <td>0</td>\n",
              "      <td>3</td>\n",
              "      <td>female</td>\n",
              "      <td>39.0</td>\n",
              "      <td>0</td>\n",
              "      <td>5</td>\n",
              "      <td>29.13</td>\n",
              "    </tr>\n",
              "    <tr>\n",
              "      <th>710</th>\n",
              "      <td>711</td>\n",
              "      <td>0</td>\n",
              "      <td>2</td>\n",
              "      <td>male</td>\n",
              "      <td>27.0</td>\n",
              "      <td>0</td>\n",
              "      <td>0</td>\n",
              "      <td>13.00</td>\n",
              "    </tr>\n",
              "    <tr>\n",
              "      <th>711</th>\n",
              "      <td>712</td>\n",
              "      <td>1</td>\n",
              "      <td>1</td>\n",
              "      <td>female</td>\n",
              "      <td>19.0</td>\n",
              "      <td>0</td>\n",
              "      <td>0</td>\n",
              "      <td>30.00</td>\n",
              "    </tr>\n",
              "    <tr>\n",
              "      <th>712</th>\n",
              "      <td>713</td>\n",
              "      <td>1</td>\n",
              "      <td>1</td>\n",
              "      <td>male</td>\n",
              "      <td>26.0</td>\n",
              "      <td>0</td>\n",
              "      <td>0</td>\n",
              "      <td>30.00</td>\n",
              "    </tr>\n",
              "    <tr>\n",
              "      <th>713</th>\n",
              "      <td>714</td>\n",
              "      <td>0</td>\n",
              "      <td>3</td>\n",
              "      <td>male</td>\n",
              "      <td>32.0</td>\n",
              "      <td>0</td>\n",
              "      <td>0</td>\n",
              "      <td>7.75</td>\n",
              "    </tr>\n",
              "  </tbody>\n",
              "</table>\n",
              "<p>714 rows × 8 columns</p>\n",
              "</div>"
            ],
            "text/plain": [
              "     No.  Survived  Pclass     Sex   Age  SibSp  PrCh   Fare\n",
              "0      1         0       3    male  22.0      1     0   7.25\n",
              "1      2         1       1  female  38.0      1     0  71.28\n",
              "2      3         1       3  female  26.0      0     0   7.93\n",
              "3      4         1       1  female  35.0      1     0  53.10\n",
              "4      5         0       3    male  35.0      0     0   8.05\n",
              "..   ...       ...     ...     ...   ...    ...   ...    ...\n",
              "709  710         0       3  female  39.0      0     5  29.13\n",
              "710  711         0       2    male  27.0      0     0  13.00\n",
              "711  712         1       1  female  19.0      0     0  30.00\n",
              "712  713         1       1    male  26.0      0     0  30.00\n",
              "713  714         0       3    male  32.0      0     0   7.75\n",
              "\n",
              "[714 rows x 8 columns]"
            ]
          },
          "metadata": {
            "tags": []
          },
          "execution_count": 4
        }
      ]
    },
    {
      "cell_type": "code",
      "metadata": {
        "id": "1Q51d-dsTf8d"
      },
      "source": [
        "df[\"mSex\"]=np.where(df[\"Sex\"]==\"male\",0,1)\n"
      ],
      "execution_count": null,
      "outputs": []
    },
    {
      "cell_type": "code",
      "metadata": {
        "id": "joV1k5-FstWX",
        "colab": {
          "base_uri": "https://localhost:8080/",
          "height": 419
        },
        "outputId": "56bf0718-1a06-48e2-afd1-903f74515f05"
      },
      "source": [
        "df"
      ],
      "execution_count": null,
      "outputs": [
        {
          "output_type": "execute_result",
          "data": {
            "text/html": [
              "<div>\n",
              "<style scoped>\n",
              "    .dataframe tbody tr th:only-of-type {\n",
              "        vertical-align: middle;\n",
              "    }\n",
              "\n",
              "    .dataframe tbody tr th {\n",
              "        vertical-align: top;\n",
              "    }\n",
              "\n",
              "    .dataframe thead th {\n",
              "        text-align: right;\n",
              "    }\n",
              "</style>\n",
              "<table border=\"1\" class=\"dataframe\">\n",
              "  <thead>\n",
              "    <tr style=\"text-align: right;\">\n",
              "      <th></th>\n",
              "      <th>No.</th>\n",
              "      <th>Survived</th>\n",
              "      <th>Pclass</th>\n",
              "      <th>Sex</th>\n",
              "      <th>Age</th>\n",
              "      <th>SibSp</th>\n",
              "      <th>PrCh</th>\n",
              "      <th>Fare</th>\n",
              "      <th>mSex</th>\n",
              "    </tr>\n",
              "  </thead>\n",
              "  <tbody>\n",
              "    <tr>\n",
              "      <th>0</th>\n",
              "      <td>1</td>\n",
              "      <td>0</td>\n",
              "      <td>3</td>\n",
              "      <td>male</td>\n",
              "      <td>22.0</td>\n",
              "      <td>1</td>\n",
              "      <td>0</td>\n",
              "      <td>7.25</td>\n",
              "      <td>0</td>\n",
              "    </tr>\n",
              "    <tr>\n",
              "      <th>1</th>\n",
              "      <td>2</td>\n",
              "      <td>1</td>\n",
              "      <td>1</td>\n",
              "      <td>female</td>\n",
              "      <td>38.0</td>\n",
              "      <td>1</td>\n",
              "      <td>0</td>\n",
              "      <td>71.28</td>\n",
              "      <td>1</td>\n",
              "    </tr>\n",
              "    <tr>\n",
              "      <th>2</th>\n",
              "      <td>3</td>\n",
              "      <td>1</td>\n",
              "      <td>3</td>\n",
              "      <td>female</td>\n",
              "      <td>26.0</td>\n",
              "      <td>0</td>\n",
              "      <td>0</td>\n",
              "      <td>7.93</td>\n",
              "      <td>1</td>\n",
              "    </tr>\n",
              "    <tr>\n",
              "      <th>3</th>\n",
              "      <td>4</td>\n",
              "      <td>1</td>\n",
              "      <td>1</td>\n",
              "      <td>female</td>\n",
              "      <td>35.0</td>\n",
              "      <td>1</td>\n",
              "      <td>0</td>\n",
              "      <td>53.10</td>\n",
              "      <td>1</td>\n",
              "    </tr>\n",
              "    <tr>\n",
              "      <th>4</th>\n",
              "      <td>5</td>\n",
              "      <td>0</td>\n",
              "      <td>3</td>\n",
              "      <td>male</td>\n",
              "      <td>35.0</td>\n",
              "      <td>0</td>\n",
              "      <td>0</td>\n",
              "      <td>8.05</td>\n",
              "      <td>0</td>\n",
              "    </tr>\n",
              "    <tr>\n",
              "      <th>...</th>\n",
              "      <td>...</td>\n",
              "      <td>...</td>\n",
              "      <td>...</td>\n",
              "      <td>...</td>\n",
              "      <td>...</td>\n",
              "      <td>...</td>\n",
              "      <td>...</td>\n",
              "      <td>...</td>\n",
              "      <td>...</td>\n",
              "    </tr>\n",
              "    <tr>\n",
              "      <th>709</th>\n",
              "      <td>710</td>\n",
              "      <td>0</td>\n",
              "      <td>3</td>\n",
              "      <td>female</td>\n",
              "      <td>39.0</td>\n",
              "      <td>0</td>\n",
              "      <td>5</td>\n",
              "      <td>29.13</td>\n",
              "      <td>1</td>\n",
              "    </tr>\n",
              "    <tr>\n",
              "      <th>710</th>\n",
              "      <td>711</td>\n",
              "      <td>0</td>\n",
              "      <td>2</td>\n",
              "      <td>male</td>\n",
              "      <td>27.0</td>\n",
              "      <td>0</td>\n",
              "      <td>0</td>\n",
              "      <td>13.00</td>\n",
              "      <td>0</td>\n",
              "    </tr>\n",
              "    <tr>\n",
              "      <th>711</th>\n",
              "      <td>712</td>\n",
              "      <td>1</td>\n",
              "      <td>1</td>\n",
              "      <td>female</td>\n",
              "      <td>19.0</td>\n",
              "      <td>0</td>\n",
              "      <td>0</td>\n",
              "      <td>30.00</td>\n",
              "      <td>1</td>\n",
              "    </tr>\n",
              "    <tr>\n",
              "      <th>712</th>\n",
              "      <td>713</td>\n",
              "      <td>1</td>\n",
              "      <td>1</td>\n",
              "      <td>male</td>\n",
              "      <td>26.0</td>\n",
              "      <td>0</td>\n",
              "      <td>0</td>\n",
              "      <td>30.00</td>\n",
              "      <td>0</td>\n",
              "    </tr>\n",
              "    <tr>\n",
              "      <th>713</th>\n",
              "      <td>714</td>\n",
              "      <td>0</td>\n",
              "      <td>3</td>\n",
              "      <td>male</td>\n",
              "      <td>32.0</td>\n",
              "      <td>0</td>\n",
              "      <td>0</td>\n",
              "      <td>7.75</td>\n",
              "      <td>0</td>\n",
              "    </tr>\n",
              "  </tbody>\n",
              "</table>\n",
              "<p>714 rows × 9 columns</p>\n",
              "</div>"
            ],
            "text/plain": [
              "     No.  Survived  Pclass     Sex   Age  SibSp  PrCh   Fare  mSex\n",
              "0      1         0       3    male  22.0      1     0   7.25     0\n",
              "1      2         1       1  female  38.0      1     0  71.28     1\n",
              "2      3         1       3  female  26.0      0     0   7.93     1\n",
              "3      4         1       1  female  35.0      1     0  53.10     1\n",
              "4      5         0       3    male  35.0      0     0   8.05     0\n",
              "..   ...       ...     ...     ...   ...    ...   ...    ...   ...\n",
              "709  710         0       3  female  39.0      0     5  29.13     1\n",
              "710  711         0       2    male  27.0      0     0  13.00     0\n",
              "711  712         1       1  female  19.0      0     0  30.00     1\n",
              "712  713         1       1    male  26.0      0     0  30.00     0\n",
              "713  714         0       3    male  32.0      0     0   7.75     0\n",
              "\n",
              "[714 rows x 9 columns]"
            ]
          },
          "metadata": {
            "tags": []
          },
          "execution_count": 6
        }
      ]
    },
    {
      "cell_type": "code",
      "metadata": {
        "id": "JEHVk6ZdTobk"
      },
      "source": [
        "#define the predictor and target variables\n",
        "x = df[['Pclass', 'mSex', 'Age', 'SibSp', 'PrCh', 'Fare']]\n",
        "y = df['Survived']"
      ],
      "execution_count": null,
      "outputs": []
    },
    {
      "cell_type": "code",
      "metadata": {
        "id": "C-pByvKtTsBG"
      },
      "source": [
        "# Split dataset into training set and test set\n",
        "xtrain, xtest, ytrain, ytest = train_test_split(x, y, test_size=0.5, random_state=0)"
      ],
      "execution_count": null,
      "outputs": []
    },
    {
      "cell_type": "code",
      "metadata": {
        "id": "fqH1DMxnTupr"
      },
      "source": [
        "#scaling\n",
        "sc = StandardScaler()\n",
        "xtrain = sc.fit_transform(xtrain)\n",
        "xtest = sc.transform(xtest)\n"
      ],
      "execution_count": null,
      "outputs": []
    },
    {
      "cell_type": "code",
      "metadata": {
        "colab": {
          "base_uri": "https://localhost:8080/"
        },
        "id": "COTzP9uodNMr",
        "outputId": "ee5c9f4b-2ed4-4862-ced9-b32b956354ee"
      },
      "source": [
        "xtrain"
      ],
      "execution_count": null,
      "outputs": [
        {
          "output_type": "execute_result",
          "data": {
            "text/plain": [
              "array([[ 9.58829932e-01, -7.38548946e-01, -2.73220238e-01,\n",
              "         5.80768270e-01, -5.07054827e-01, -3.74336888e-01],\n",
              "       [ 9.58829932e-01,  1.35400640e+00,  2.87297832e-04,\n",
              "        -5.46048427e-01, -5.07054827e-01, -4.07975222e-01],\n",
              "       [-1.44329137e+00, -7.38548946e-01,  4.10548602e-01,\n",
              "        -5.46048427e-01, -5.07054827e-01, -1.70457851e-01],\n",
              "       ...,\n",
              "       [-1.44329137e+00, -7.38548946e-01,  1.09431744e+00,\n",
              "        -5.46048427e-01, -5.07054827e-01,  7.31288542e-01],\n",
              "       [ 9.58829932e-01, -7.38548946e-01, -2.73220238e-01,\n",
              "         5.80768270e-01, -5.07054827e-01, -4.87033843e-01],\n",
              "       [-1.44329137e+00,  1.35400640e+00,  1.02594056e+00,\n",
              "         5.80768270e-01,  7.50018598e-01,  2.19412917e+00]])"
            ]
          },
          "metadata": {
            "tags": []
          },
          "execution_count": 10
        }
      ]
    },
    {
      "cell_type": "code",
      "metadata": {
        "id": "iUfKDjeruitA"
      },
      "source": [
        "#Normalization: 0 and 1. min:0 and max= 1\n",
        "#MinMaxScaler()\n",
        "#sklearn.preprocessing import MinMaxScaler\n",
        "#Xi= Xi-Xmin/Xmax-Xmin"
      ],
      "execution_count": null,
      "outputs": []
    },
    {
      "cell_type": "code",
      "metadata": {
        "id": "EgMV_Zg6TzqL",
        "colab": {
          "base_uri": "https://localhost:8080/"
        },
        "outputId": "8d30356f-9a7c-4ff7-ea30-f7bd52dd6817"
      },
      "source": [
        "#Build the bagging model\n",
        "dtc = DecisionTreeClassifier()\n",
        "bag_model=BaggingClassifier(base_estimator=dtc, n_estimators=100, bootstrap=True)\n",
        "#https://scikit-learn.org/stable/modules/generated/sklearn.ensemble.BaggingClassifier.html\n",
        "bag_model=bag_model.fit(xtrain,ytrain)\n",
        "ytest_pred=bag_model.predict(xtest)\n",
        "print(bag_model.score(xtest, ytest))"
      ],
      "execution_count": null,
      "outputs": [
        {
          "output_type": "stream",
          "text": [
            "0.7591036414565826\n"
          ],
          "name": "stdout"
        }
      ]
    },
    {
      "cell_type": "code",
      "metadata": {
        "id": "AWxVQ2bfphpg"
      },
      "source": [
        "BaggingClassifier(dtc, n_estimators= 10 (or 20, 30, 40, 50))"
      ],
      "execution_count": null,
      "outputs": []
    },
    {
      "cell_type": "markdown",
      "metadata": {
        "id": "fXKIbMODeWL7"
      },
      "source": [
        "A Bagging classifier is an ensemble meta-estimator that fits base\n",
        "classifiers each on random subsets of the original dataset and then\n",
        "aggregate their individual predictions (either by voting or by averaging)\n",
        "to form a final prediction. Such a meta-estimator can typically be used as\n",
        "a way to reduce the variance of a black-box estimator (e.g., a decision\n",
        "tree), by introducing randomization into its construction procedure and\n",
        "then making an ensemble out of it.\n"
      ]
    },
    {
      "cell_type": "code",
      "metadata": {
        "id": "utgYkTWWUS6i"
      },
      "source": [
        "# Plot Validation Curve\n",
        "import matplotlib.pyplot as plt\n",
        "from sklearn.model_selection import validation_curve"
      ],
      "execution_count": null,
      "outputs": []
    },
    {
      "cell_type": "code",
      "metadata": {
        "id": "fv_3LDzfUhey"
      },
      "source": [
        "# Create range of values for parameter (up to 250 trees, with stepsize 5)\n",
        "param_range = np.arange(1, 250, 5)\n"
      ],
      "execution_count": null,
      "outputs": []
    },
    {
      "cell_type": "code",
      "metadata": {
        "id": "aB9tynpGu5Q5",
        "colab": {
          "base_uri": "https://localhost:8080/"
        },
        "outputId": "0412c39c-d468-49ed-b0be-d158abf280c8"
      },
      "source": [
        "param_range"
      ],
      "execution_count": null,
      "outputs": [
        {
          "output_type": "execute_result",
          "data": {
            "text/plain": [
              "array([  1,   6,  11,  16,  21,  26,  31,  36,  41,  46,  51,  56,  61,\n",
              "        66,  71,  76,  81,  86,  91,  96, 101, 106, 111, 116, 121, 126,\n",
              "       131, 136, 141, 146, 151, 156, 161, 166, 171, 176, 181, 186, 191,\n",
              "       196, 201, 206, 211, 216, 221, 226, 231, 236, 241, 246])"
            ]
          },
          "metadata": {
            "tags": []
          },
          "execution_count": 18
        }
      ]
    },
    {
      "cell_type": "code",
      "metadata": {
        "id": "rpdqOosgVBjN"
      },
      "source": [
        "# Calculate accuracy on training and test set using range of parameter values\n",
        "#https://scikit-learn.org/stable/modules/generated/sklearn.model_selection.validation_curve.html\n",
        "train_scores, test_scores = validation_curve(BaggingClassifier(),xtrain, ytrain, param_name=\"n_estimators\",\n",
        "                                             param_range=[  1,   6,  11,  16,  21,  26,  31,  36,  41,  46,  51,  56,  61,\n",
        "        66,  71,  76,  81,  86,  91,  96, 101, 106, 111, 116, 121, 126,\n",
        "       131, 136, 141, 146, 151, 156, 161, 166, 171, 176, 181, 186, 191,\n",
        "       196, 201, 206, 211, 216, 221, 226, 231, 236, 241, 246] , cv=5, scoring=\"accuracy\", n_jobs=-1)\n"
      ],
      "execution_count": null,
      "outputs": []
    },
    {
      "cell_type": "code",
      "metadata": {
        "id": "pMu3vi7oiYjv"
      },
      "source": [
        "# 50 trainscores and 50 testscores\n",
        "#transcore1, testscore1\n",
        "\n",
        "\n",
        "#transcore50, testscore50\n"
      ],
      "execution_count": null,
      "outputs": []
    },
    {
      "cell_type": "code",
      "metadata": {
        "id": "m_ltz82qv9wI",
        "colab": {
          "base_uri": "https://localhost:8080/"
        },
        "outputId": "d4056b3f-75da-491c-b03b-ce7783459c2d"
      },
      "source": [
        "train_scores"
      ],
      "execution_count": null,
      "outputs": [
        {
          "output_type": "execute_result",
          "data": {
            "text/plain": [
              "array([[0.90877193, 0.92631579, 0.92657343, 0.91258741, 0.91958042],\n",
              "       [0.94035088, 0.97894737, 0.95454545, 0.95454545, 0.97202797],\n",
              "       [0.98245614, 0.97894737, 0.98251748, 0.97902098, 0.97202797],\n",
              "       [0.98245614, 0.98245614, 0.98251748, 0.97902098, 0.98251748],\n",
              "       [0.98596491, 0.98947368, 0.98601399, 0.97902098, 0.98951049],\n",
              "       [0.99298246, 0.98947368, 0.98951049, 0.99300699, 0.97902098],\n",
              "       [0.98245614, 0.98947368, 0.98601399, 0.98951049, 0.98951049],\n",
              "       [0.98245614, 0.98596491, 0.98951049, 0.98601399, 0.98951049],\n",
              "       [0.98947368, 0.98947368, 0.99300699, 0.98951049, 0.98251748],\n",
              "       [0.99298246, 0.98947368, 0.98601399, 0.99300699, 0.98951049],\n",
              "       [0.99298246, 0.98947368, 0.99300699, 0.99300699, 0.98951049],\n",
              "       [0.99298246, 0.98947368, 0.99300699, 0.99300699, 0.98951049],\n",
              "       [0.98947368, 0.98947368, 0.99300699, 0.98951049, 0.98951049],\n",
              "       [0.99298246, 0.98947368, 0.99300699, 0.99300699, 0.98951049],\n",
              "       [0.99298246, 0.98947368, 0.99300699, 0.99300699, 0.98601399],\n",
              "       [0.99298246, 0.98947368, 0.99300699, 0.99300699, 0.98951049],\n",
              "       [0.99298246, 0.98947368, 0.99300699, 0.99300699, 0.98951049],\n",
              "       [0.99298246, 0.98947368, 0.99300699, 0.99300699, 0.98951049],\n",
              "       [0.99298246, 0.98947368, 0.99300699, 0.99300699, 0.98951049],\n",
              "       [0.99298246, 0.98947368, 0.99300699, 0.99300699, 0.98951049],\n",
              "       [0.98947368, 0.98947368, 0.99300699, 0.99300699, 0.98951049],\n",
              "       [0.99298246, 0.98947368, 0.99300699, 0.99300699, 0.98951049],\n",
              "       [0.99298246, 0.98947368, 0.99300699, 0.98951049, 0.98951049],\n",
              "       [0.99298246, 0.98947368, 0.99300699, 0.99300699, 0.98951049],\n",
              "       [0.99298246, 0.98947368, 0.99300699, 0.99300699, 0.98951049],\n",
              "       [0.99298246, 0.98947368, 0.99300699, 0.99300699, 0.98951049],\n",
              "       [0.99298246, 0.98947368, 0.99300699, 0.99300699, 0.98951049],\n",
              "       [0.99298246, 0.98947368, 0.99300699, 0.99300699, 0.98951049],\n",
              "       [0.99298246, 0.98947368, 0.99300699, 0.99300699, 0.98951049],\n",
              "       [0.99298246, 0.98947368, 0.99300699, 0.99300699, 0.98951049],\n",
              "       [0.99298246, 0.98947368, 0.99300699, 0.99300699, 0.98951049],\n",
              "       [0.99298246, 0.98947368, 0.99300699, 0.99300699, 0.98951049],\n",
              "       [0.99298246, 0.98947368, 0.99300699, 0.99300699, 0.98951049],\n",
              "       [0.99298246, 0.98947368, 0.99300699, 0.99300699, 0.98951049],\n",
              "       [0.99298246, 0.98947368, 0.99300699, 0.99300699, 0.98951049],\n",
              "       [0.99298246, 0.98947368, 0.99300699, 0.99300699, 0.98951049],\n",
              "       [0.99298246, 0.98947368, 0.99300699, 0.99300699, 0.98951049],\n",
              "       [0.99298246, 0.98947368, 0.99300699, 0.99300699, 0.98951049],\n",
              "       [0.99298246, 0.98947368, 0.99300699, 0.99300699, 0.98951049],\n",
              "       [0.99298246, 0.98947368, 0.99300699, 0.99300699, 0.98951049],\n",
              "       [0.99298246, 0.98947368, 0.99300699, 0.99300699, 0.98951049],\n",
              "       [0.99298246, 0.98947368, 0.99300699, 0.99300699, 0.98951049],\n",
              "       [0.99298246, 0.98947368, 0.99300699, 0.99300699, 0.98951049],\n",
              "       [0.99298246, 0.98947368, 0.99300699, 0.99300699, 0.98951049],\n",
              "       [0.99298246, 0.98947368, 0.99300699, 0.99300699, 0.98951049],\n",
              "       [0.99298246, 0.98947368, 0.99300699, 0.99300699, 0.98951049],\n",
              "       [0.99298246, 0.98947368, 0.99300699, 0.99300699, 0.98951049],\n",
              "       [0.99298246, 0.98947368, 0.99300699, 0.99300699, 0.98951049],\n",
              "       [0.99298246, 0.98947368, 0.99300699, 0.99300699, 0.98951049],\n",
              "       [0.99298246, 0.98947368, 0.99300699, 0.99300699, 0.98951049]])"
            ]
          },
          "metadata": {
            "tags": []
          },
          "execution_count": 21
        }
      ]
    },
    {
      "cell_type": "code",
      "metadata": {
        "id": "Sxm1j2tLwRR3",
        "colab": {
          "base_uri": "https://localhost:8080/"
        },
        "outputId": "a3c98f61-cf87-4e49-b9a9-35f56e58fb5a"
      },
      "source": [
        "train_scores.shape"
      ],
      "execution_count": null,
      "outputs": [
        {
          "output_type": "execute_result",
          "data": {
            "text/plain": [
              "(50, 5)"
            ]
          },
          "metadata": {
            "tags": []
          },
          "execution_count": 22
        }
      ]
    },
    {
      "cell_type": "code",
      "metadata": {
        "id": "NcNFz3M4vCsM"
      },
      "source": [
        "#bag_model1=BaggingClassifier(base_estimator=dtc, n_estimators=1, bootstrap=True)\n",
        "#bag_model2=BaggingClassifier(base_estimator=dtc, n_estimators=6, bootstrap=True)\n",
        "#.....\n",
        "#bag_model50=BaggingClassifier(base_estimator=dtc, n_estimators=246, bootstrap=True)"
      ],
      "execution_count": null,
      "outputs": []
    },
    {
      "cell_type": "code",
      "metadata": {
        "id": "ERzxOND1VXGV"
      },
      "source": [
        "# Calculate mean and standard deviation for training set scores\n",
        "train_mean = np.mean(train_scores, axis=1)\n",
        "train_std = np.std(train_scores, axis=1)\n"
      ],
      "execution_count": null,
      "outputs": []
    },
    {
      "cell_type": "code",
      "metadata": {
        "id": "mQONDOcUwi6O",
        "colab": {
          "base_uri": "https://localhost:8080/"
        },
        "outputId": "710a4e09-30c3-455c-c4be-74dc5496235f"
      },
      "source": [
        "train_mean"
      ],
      "execution_count": null,
      "outputs": [
        {
          "output_type": "execute_result",
          "data": {
            "text/plain": [
              "array([0.9187658 , 0.96008343, 0.97899399, 0.98179364, 0.98599681,\n",
              "       0.98879892, 0.98739296, 0.9866912 , 0.98879647, 0.99019752,\n",
              "       0.99159612, 0.99159612, 0.99019507, 0.99159612, 0.99089682,\n",
              "       0.99159612, 0.99159612, 0.99159612, 0.99159612, 0.99159612,\n",
              "       0.99089437, 0.99159612, 0.99089682, 0.99159612, 0.99159612,\n",
              "       0.99159612, 0.99159612, 0.99159612, 0.99159612, 0.99159612,\n",
              "       0.99159612, 0.99159612, 0.99159612, 0.99159612, 0.99159612,\n",
              "       0.99159612, 0.99159612, 0.99159612, 0.99159612, 0.99159612,\n",
              "       0.99159612, 0.99159612, 0.99159612, 0.99159612, 0.99159612,\n",
              "       0.99159612, 0.99159612, 0.99159612, 0.99159612, 0.99159612])"
            ]
          },
          "metadata": {
            "tags": []
          },
          "execution_count": 24
        }
      ]
    },
    {
      "cell_type": "code",
      "metadata": {
        "id": "HOkR5MQzy7tC"
      },
      "source": [
        "train_mean.max()"
      ],
      "execution_count": null,
      "outputs": []
    },
    {
      "cell_type": "code",
      "metadata": {
        "id": "_Wfp29vRXXXO"
      },
      "source": [
        "# Calculate mean and standard deviation for test set scores\n",
        "test_mean = np.mean(test_scores, axis=1)\n",
        "test_std = np.std(test_scores, axis=1)\n"
      ],
      "execution_count": null,
      "outputs": []
    },
    {
      "cell_type": "code",
      "metadata": {
        "id": "rkvewv2WX8rg",
        "colab": {
          "base_uri": "https://localhost:8080/",
          "height": 729
        },
        "outputId": "fa46b321-ead7-46ae-d5d9-cea070ed06a8"
      },
      "source": [
        "# Plot mean accuracy scores for training and test sets\n",
        "plt.subplots(1, figsize=(10,10))\n",
        "plt.plot(param_range, train_mean, label=\"Training score\", color=\"black\")\n",
        "plt.plot(param_range, test_mean, label=\"Crossvalidation score\", color=\"red\")\n",
        "# Plot accurancy bands for training and test sets\n",
        "plt.fill_between(param_range, train_mean - train_std, train_mean + train_std, color=\"gray\")\n",
        "plt.fill_between(param_range, test_mean - test_std, test_mean + test_std,color=\"orange\")\n",
        "# Create plot\n",
        "plt.title(\"Validation Curve With Bagging\")\n",
        "plt.xlabel(\"Number Of Trees\")\n",
        "plt.ylabel(\"Accuracy Score\")\n",
        "plt.tight_layout()\n",
        "plt.legend(loc=\"best\")\n",
        "plt.show()"
      ],
      "execution_count": null,
      "outputs": [
        {
          "output_type": "display_data",
          "data": {
            "image/png": "[encoded data removed]",
            "text/plain": [
              "<Figure size 720x720 with 1 Axes>"
            ]
          },
          "metadata": {
            "tags": [],
            "needs_background": "light"
          }
        }
      ]
    },
    {
      "cell_type": "code",
      "metadata": {
        "id": "o5LYJxD6YiGm"
      },
      "source": [
        "BaggingClassifier(dtc, n_estimators=60)"
      ],
      "execution_count": null,
      "outputs": []
    },
    {
      "cell_type": "markdown",
      "metadata": {
        "id": "3CbPTncrZAZT"
      },
      "source": [
        "## 2. Random Forest Regression Tree: Hitters dataset"
      ]
    },
    {
      "cell_type": "code",
      "metadata": {
        "id": "iC1jQospZEu5"
      },
      "source": [
        "#read the file\n",
        "df = pd.read_csv('Hitters.csv')"
      ],
      "execution_count": null,
      "outputs": []
    },
    {
      "cell_type": "code",
      "metadata": {
        "id": "TBm9FJaCZWsh",
        "colab": {
          "base_uri": "https://localhost:8080/"
        },
        "outputId": "363e3312-88f9-487e-8102-0c3f10a2bb92"
      },
      "source": [
        "#check for missing values\n",
        "\n",
        "print(df.isnull().values.sum())\n",
        "df.isnull().values.any()"
      ],
      "execution_count": null,
      "outputs": [
        {
          "output_type": "stream",
          "text": [
            "59\n"
          ],
          "name": "stdout"
        },
        {
          "output_type": "execute_result",
          "data": {
            "text/plain": [
              "True"
            ]
          },
          "metadata": {
            "tags": []
          },
          "execution_count": 28
        }
      ]
    },
    {
      "cell_type": "code",
      "metadata": {
        "id": "6a39m89OZZIs"
      },
      "source": [
        "#Drop the rows where at least one element is missing.\n",
        "ddf=df.dropna()"
      ],
      "execution_count": null,
      "outputs": []
    },
    {
      "cell_type": "code",
      "metadata": {
        "id": "UU6n2F5OysAR",
        "colab": {
          "base_uri": "https://localhost:8080/",
          "height": 439
        },
        "outputId": "9c062401-71ad-4938-ee87-e66b92a3a74e"
      },
      "source": [
        "ddf"
      ],
      "execution_count": null,
      "outputs": [
        {
          "output_type": "execute_result",
          "data": {
            "text/html": [
              "<div>\n",
              "<style scoped>\n",
              "    .dataframe tbody tr th:only-of-type {\n",
              "        vertical-align: middle;\n",
              "    }\n",
              "\n",
              "    .dataframe tbody tr th {\n",
              "        vertical-align: top;\n",
              "    }\n",
              "\n",
              "    .dataframe thead th {\n",
              "        text-align: right;\n",
              "    }\n",
              "</style>\n",
              "<table border=\"1\" class=\"dataframe\">\n",
              "  <thead>\n",
              "    <tr style=\"text-align: right;\">\n",
              "      <th></th>\n",
              "      <th>AtBat</th>\n",
              "      <th>Hits</th>\n",
              "      <th>HmRun</th>\n",
              "      <th>Runs</th>\n",
              "      <th>RBI</th>\n",
              "      <th>Walks</th>\n",
              "      <th>Years</th>\n",
              "      <th>CAtBat</th>\n",
              "      <th>CHits</th>\n",
              "      <th>CHmRun</th>\n",
              "      <th>CRuns</th>\n",
              "      <th>CRBI</th>\n",
              "      <th>CWalks</th>\n",
              "      <th>League</th>\n",
              "      <th>Division</th>\n",
              "      <th>PutOuts</th>\n",
              "      <th>Assists</th>\n",
              "      <th>Errors</th>\n",
              "      <th>Salary</th>\n",
              "      <th>NewLeague</th>\n",
              "    </tr>\n",
              "  </thead>\n",
              "  <tbody>\n",
              "    <tr>\n",
              "      <th>1</th>\n",
              "      <td>315</td>\n",
              "      <td>81</td>\n",
              "      <td>7</td>\n",
              "      <td>24</td>\n",
              "      <td>38</td>\n",
              "      <td>39</td>\n",
              "      <td>14</td>\n",
              "      <td>3449</td>\n",
              "      <td>835</td>\n",
              "      <td>69</td>\n",
              "      <td>321</td>\n",
              "      <td>414</td>\n",
              "      <td>375</td>\n",
              "      <td>N</td>\n",
              "      <td>W</td>\n",
              "      <td>632</td>\n",
              "      <td>43</td>\n",
              "      <td>10</td>\n",
              "      <td>475.0</td>\n",
              "      <td>N</td>\n",
              "    </tr>\n",
              "    <tr>\n",
              "      <th>2</th>\n",
              "      <td>479</td>\n",
              "      <td>130</td>\n",
              "      <td>18</td>\n",
              "      <td>66</td>\n",
              "      <td>72</td>\n",
              "      <td>76</td>\n",
              "      <td>3</td>\n",
              "      <td>1624</td>\n",
              "      <td>457</td>\n",
              "      <td>63</td>\n",
              "      <td>224</td>\n",
              "      <td>266</td>\n",
              "      <td>263</td>\n",
              "      <td>A</td>\n",
              "      <td>W</td>\n",
              "      <td>880</td>\n",
              "      <td>82</td>\n",
              "      <td>14</td>\n",
              "      <td>480.0</td>\n",
              "      <td>A</td>\n",
              "    </tr>\n",
              "    <tr>\n",
              "      <th>3</th>\n",
              "      <td>496</td>\n",
              "      <td>141</td>\n",
              "      <td>20</td>\n",
              "      <td>65</td>\n",
              "      <td>78</td>\n",
              "      <td>37</td>\n",
              "      <td>11</td>\n",
              "      <td>5628</td>\n",
              "      <td>1575</td>\n",
              "      <td>225</td>\n",
              "      <td>828</td>\n",
              "      <td>838</td>\n",
              "      <td>354</td>\n",
              "      <td>N</td>\n",
              "      <td>E</td>\n",
              "      <td>200</td>\n",
              "      <td>11</td>\n",
              "      <td>3</td>\n",
              "      <td>500.0</td>\n",
              "      <td>N</td>\n",
              "    </tr>\n",
              "    <tr>\n",
              "      <th>4</th>\n",
              "      <td>321</td>\n",
              "      <td>87</td>\n",
              "      <td>10</td>\n",
              "      <td>39</td>\n",
              "      <td>42</td>\n",
              "      <td>30</td>\n",
              "      <td>2</td>\n",
              "      <td>396</td>\n",
              "      <td>101</td>\n",
              "      <td>12</td>\n",
              "      <td>48</td>\n",
              "      <td>46</td>\n",
              "      <td>33</td>\n",
              "      <td>N</td>\n",
              "      <td>E</td>\n",
              "      <td>805</td>\n",
              "      <td>40</td>\n",
              "      <td>4</td>\n",
              "      <td>91.5</td>\n",
              "      <td>N</td>\n",
              "    </tr>\n",
              "    <tr>\n",
              "      <th>5</th>\n",
              "      <td>594</td>\n",
              "      <td>169</td>\n",
              "      <td>4</td>\n",
              "      <td>74</td>\n",
              "      <td>51</td>\n",
              "      <td>35</td>\n",
              "      <td>11</td>\n",
              "      <td>4408</td>\n",
              "      <td>1133</td>\n",
              "      <td>19</td>\n",
              "      <td>501</td>\n",
              "      <td>336</td>\n",
              "      <td>194</td>\n",
              "      <td>A</td>\n",
              "      <td>W</td>\n",
              "      <td>282</td>\n",
              "      <td>421</td>\n",
              "      <td>25</td>\n",
              "      <td>750.0</td>\n",
              "      <td>A</td>\n",
              "    </tr>\n",
              "    <tr>\n",
              "      <th>...</th>\n",
              "      <td>...</td>\n",
              "      <td>...</td>\n",
              "      <td>...</td>\n",
              "      <td>...</td>\n",
              "      <td>...</td>\n",
              "      <td>...</td>\n",
              "      <td>...</td>\n",
              "      <td>...</td>\n",
              "      <td>...</td>\n",
              "      <td>...</td>\n",
              "      <td>...</td>\n",
              "      <td>...</td>\n",
              "      <td>...</td>\n",
              "      <td>...</td>\n",
              "      <td>...</td>\n",
              "      <td>...</td>\n",
              "      <td>...</td>\n",
              "      <td>...</td>\n",
              "      <td>...</td>\n",
              "      <td>...</td>\n",
              "    </tr>\n",
              "    <tr>\n",
              "      <th>317</th>\n",
              "      <td>497</td>\n",
              "      <td>127</td>\n",
              "      <td>7</td>\n",
              "      <td>65</td>\n",
              "      <td>48</td>\n",
              "      <td>37</td>\n",
              "      <td>5</td>\n",
              "      <td>2703</td>\n",
              "      <td>806</td>\n",
              "      <td>32</td>\n",
              "      <td>379</td>\n",
              "      <td>311</td>\n",
              "      <td>138</td>\n",
              "      <td>N</td>\n",
              "      <td>E</td>\n",
              "      <td>325</td>\n",
              "      <td>9</td>\n",
              "      <td>3</td>\n",
              "      <td>700.0</td>\n",
              "      <td>N</td>\n",
              "    </tr>\n",
              "    <tr>\n",
              "      <th>318</th>\n",
              "      <td>492</td>\n",
              "      <td>136</td>\n",
              "      <td>5</td>\n",
              "      <td>76</td>\n",
              "      <td>50</td>\n",
              "      <td>94</td>\n",
              "      <td>12</td>\n",
              "      <td>5511</td>\n",
              "      <td>1511</td>\n",
              "      <td>39</td>\n",
              "      <td>897</td>\n",
              "      <td>451</td>\n",
              "      <td>875</td>\n",
              "      <td>A</td>\n",
              "      <td>E</td>\n",
              "      <td>313</td>\n",
              "      <td>381</td>\n",
              "      <td>20</td>\n",
              "      <td>875.0</td>\n",
              "      <td>A</td>\n",
              "    </tr>\n",
              "    <tr>\n",
              "      <th>319</th>\n",
              "      <td>475</td>\n",
              "      <td>126</td>\n",
              "      <td>3</td>\n",
              "      <td>61</td>\n",
              "      <td>43</td>\n",
              "      <td>52</td>\n",
              "      <td>6</td>\n",
              "      <td>1700</td>\n",
              "      <td>433</td>\n",
              "      <td>7</td>\n",
              "      <td>217</td>\n",
              "      <td>93</td>\n",
              "      <td>146</td>\n",
              "      <td>A</td>\n",
              "      <td>W</td>\n",
              "      <td>37</td>\n",
              "      <td>113</td>\n",
              "      <td>7</td>\n",
              "      <td>385.0</td>\n",
              "      <td>A</td>\n",
              "    </tr>\n",
              "    <tr>\n",
              "      <th>320</th>\n",
              "      <td>573</td>\n",
              "      <td>144</td>\n",
              "      <td>9</td>\n",
              "      <td>85</td>\n",
              "      <td>60</td>\n",
              "      <td>78</td>\n",
              "      <td>8</td>\n",
              "      <td>3198</td>\n",
              "      <td>857</td>\n",
              "      <td>97</td>\n",
              "      <td>470</td>\n",
              "      <td>420</td>\n",
              "      <td>332</td>\n",
              "      <td>A</td>\n",
              "      <td>E</td>\n",
              "      <td>1314</td>\n",
              "      <td>131</td>\n",
              "      <td>12</td>\n",
              "      <td>960.0</td>\n",
              "      <td>A</td>\n",
              "    </tr>\n",
              "    <tr>\n",
              "      <th>321</th>\n",
              "      <td>631</td>\n",
              "      <td>170</td>\n",
              "      <td>9</td>\n",
              "      <td>77</td>\n",
              "      <td>44</td>\n",
              "      <td>31</td>\n",
              "      <td>11</td>\n",
              "      <td>4908</td>\n",
              "      <td>1457</td>\n",
              "      <td>30</td>\n",
              "      <td>775</td>\n",
              "      <td>357</td>\n",
              "      <td>249</td>\n",
              "      <td>A</td>\n",
              "      <td>W</td>\n",
              "      <td>408</td>\n",
              "      <td>4</td>\n",
              "      <td>3</td>\n",
              "      <td>1000.0</td>\n",
              "      <td>A</td>\n",
              "    </tr>\n",
              "  </tbody>\n",
              "</table>\n",
              "<p>263 rows × 20 columns</p>\n",
              "</div>"
            ],
            "text/plain": [
              "     AtBat  Hits  HmRun  Runs  RBI  ...  PutOuts  Assists  Errors  Salary  NewLeague\n",
              "1      315    81      7    24   38  ...      632       43      10   475.0          N\n",
              "2      479   130     18    66   72  ...      880       82      14   480.0          A\n",
              "3      496   141     20    65   78  ...      200       11       3   500.0          N\n",
              "4      321    87     10    39   42  ...      805       40       4    91.5          N\n",
              "5      594   169      4    74   51  ...      282      421      25   750.0          A\n",
              "..     ...   ...    ...   ...  ...  ...      ...      ...     ...     ...        ...\n",
              "317    497   127      7    65   48  ...      325        9       3   700.0          N\n",
              "318    492   136      5    76   50  ...      313      381      20   875.0          A\n",
              "319    475   126      3    61   43  ...       37      113       7   385.0          A\n",
              "320    573   144      9    85   60  ...     1314      131      12   960.0          A\n",
              "321    631   170      9    77   44  ...      408        4       3  1000.0          A\n",
              "\n",
              "[263 rows x 20 columns]"
            ]
          },
          "metadata": {
            "tags": []
          },
          "execution_count": 30
        }
      ]
    },
    {
      "cell_type": "code",
      "metadata": {
        "id": "r7tAJpcHZbVE"
      },
      "source": [
        "#Selected attribute and target variables\n",
        "x = ddf[['Hits', 'Years']]\n",
        "y = ddf['Salary']\n"
      ],
      "execution_count": null,
      "outputs": []
    },
    {
      "cell_type": "code",
      "metadata": {
        "id": "UhbGMGOmZeAy"
      },
      "source": [
        "xtrain, xtest, ytrain, ytest = train_test_split(x, y, test_size=0.5,\n",
        "                                                random_state=0)"
      ],
      "execution_count": null,
      "outputs": []
    },
    {
      "cell_type": "code",
      "metadata": {
        "id": "knmcJogeZjTu"
      },
      "source": [
        "#scaling\n",
        "sc = StandardScaler()\n",
        "xtrain = sc.fit_transform(xtrain)\n",
        "xtest = sc.transform(xtest)\n"
      ],
      "execution_count": null,
      "outputs": []
    },
    {
      "cell_type": "code",
      "metadata": {
        "id": "rUTGxv7JZrcE",
        "colab": {
          "base_uri": "https://localhost:8080/"
        },
        "outputId": "05ccc13c-4689-4b0a-ef3c-078ddcba68cf"
      },
      "source": [
        "from sklearn.ensemble import RandomForestRegressor\n",
        "rf = RandomForestRegressor(n_estimators=200, random_state=0)\n",
        "rf.fit(xtrain, ytrain)\n",
        "ypred = rf.predict(xtest)\n",
        "print('RMSE:', np.sqrt(metrics.mean_squared_error(ytest, ypred)))"
      ],
      "execution_count": null,
      "outputs": [
        {
          "output_type": "stream",
          "text": [
            "RMSE: 385.04449413262523\n"
          ],
          "name": "stdout"
        }
      ]
    },
    {
      "cell_type": "markdown",
      "metadata": {
        "id": "Htq1JqMaa6tX"
      },
      "source": [
        "## 3. Boosting Classification Tree: Titanic dataset\n"
      ]
    },
    {
      "cell_type": "code",
      "metadata": {
        "id": "z6sR_pzra9xn"
      },
      "source": [
        "#read the file\n",
        "df = pd.read_csv('Titanic.csv')"
      ],
      "execution_count": null,
      "outputs": []
    },
    {
      "cell_type": "code",
      "metadata": {
        "id": "mcsJ7U_SbbkF",
        "colab": {
          "base_uri": "https://localhost:8080/"
        },
        "outputId": "aff54da0-04dd-47ac-fe05-1f893fbf1118"
      },
      "source": [
        "#check for missing values\n",
        "df.isnull().values.any()"
      ],
      "execution_count": null,
      "outputs": [
        {
          "output_type": "execute_result",
          "data": {
            "text/plain": [
              "False"
            ]
          },
          "metadata": {
            "tags": []
          },
          "execution_count": 36
        }
      ]
    },
    {
      "cell_type": "code",
      "metadata": {
        "id": "VMGTQACRbdYY"
      },
      "source": [
        "\n",
        "df[\"mSex\"]=np.where(df[\"Sex\"]==\"male\",0,1)"
      ],
      "execution_count": null,
      "outputs": []
    },
    {
      "cell_type": "code",
      "metadata": {
        "id": "jEeeZrITbfpa"
      },
      "source": [
        "#define the predictor and target variables\n",
        "x = df[['Pclass', 'mSex', 'Age', 'SibSp', 'PrCh', 'Fare']]\n",
        "y = df['Survived']"
      ],
      "execution_count": null,
      "outputs": []
    },
    {
      "cell_type": "code",
      "metadata": {
        "id": "wvYC0jVTbheE"
      },
      "source": [
        "# Split dataset into training set and test set\n",
        "xtrain, xtest, ytrain, ytest = train_test_split(x, y, test_size=0.5,\n",
        "                                                random_state=0)"
      ],
      "execution_count": null,
      "outputs": []
    },
    {
      "cell_type": "code",
      "metadata": {
        "id": "A4MyevJ3bl9z"
      },
      "source": [
        "#scaling\n",
        "sc = StandardScaler()\n",
        "xtrain = sc.fit_transform(xtrain)\n",
        "xtest = sc.transform(xtest)"
      ],
      "execution_count": null,
      "outputs": []
    },
    {
      "cell_type": "code",
      "metadata": {
        "id": "2QS92-6dbn27",
        "colab": {
          "base_uri": "https://localhost:8080/"
        },
        "outputId": "268a0073-2f5a-4b62-8d52-c2947908092e"
      },
      "source": [
        "from sklearn.ensemble import GradientBoostingClassifier\n",
        "#https://scikit-learn.org/stable/modules/generated/sklearn.ensemble.GradientBoostingClassifier.html\n",
        "clf = GradientBoostingClassifier(random_state=0)\n",
        "clf.fit(xtrain, ytrain)\n",
        "clf.predict(xtest)\n",
        "clf.score(xtest, ytest)"
      ],
      "execution_count": null,
      "outputs": [
        {
          "output_type": "execute_result",
          "data": {
            "text/plain": [
              "0.8095238095238095"
            ]
          },
          "metadata": {
            "tags": []
          },
          "execution_count": 41
        }
      ]
    },
    {
      "cell_type": "code",
      "metadata": {
        "id": "6zb5X13BmzQ6"
      },
      "source": [
        "#Grad"
      ],
      "execution_count": null,
      "outputs": []
    },
    {
      "cell_type": "markdown",
      "metadata": {
        "id": "Rncza5kNnYb7"
      },
      "source": [
        "## 4. Boosting Regression Tree: advertisement dataset."
      ]
    },
    {
      "cell_type": "markdown",
      "metadata": {
        "id": "XDRtTi29ngqf"
      },
      "source": [
        "Implement Boosting regression tree on the advertisement dataset."
      ]
    },
    {
      "cell_type": "code",
      "metadata": {
        "id": "Ibi6qFIenhYY"
      },
      "source": [],
      "execution_count": null,
      "outputs": []
    }
  ]
}